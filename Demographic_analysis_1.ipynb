{
 "metadata": {
  "name": "",
  "signature": "sha256:d858960dda25982e92f5081577b201205610cd672ffe9cce1ec18b2884e9f9ab"
 },
 "nbformat": 3,
 "nbformat_minor": 0,
 "worksheets": [
  {
   "cells": [
    {
     "cell_type": "heading",
     "level": 1,
     "metadata": {},
     "source": [
      "Exploratory analysis of demographic data (Vall de almonacid 1612 to 1852)"
     ]
    },
    {
     "cell_type": "heading",
     "level": 2,
     "metadata": {},
     "source": [
      "1. Introduction"
     ]
    },
    {
     "cell_type": "markdown",
     "metadata": {},
     "source": [
      "This is an exploratory analysis of demographic data from Vall de Almonacid (https://commons.wikimedia.org/wiki/File:VGeneral_VallAlmonacid.jpg). Vall de Almonacid (Spain) is a small village on the Valencian region. Of Muslim origin, it was conquered, refounded and repopulated with Catholics from the Aragon Kingdom in 1238.\n",
      "\n",
      "In the church there are several record books where births, marriages and funerals were recorded by the church prist. In the 1980s these records were taken by Josep Maria Perez Rodriguez who copied them by hand with the help of Jose Maria Perez Rodriguez, Maria Rovira Barbera, Pilar Perez Rodriguez, and some others.\n",
      "\n",
      "The hand-copied files were later digitalised (by hand, again) and a copy of these files is the starting point of this analysis. Not all data was digitalised and many typos and errors are present in the dataset.\n",
      "\n",
      "For this analysis, I opted for Python (v.3.5.2+) as a flexible yet user-friendly tool to explore data.\n",
      "\n",
      "I have previosuly done some visualisation experiments with this data using d3.js that you can find at https://fuyas.github.io/nacimientos/ (in Spanish).\n",
      "\n",
      "In addition, there is a small report study authored by Josep Maria Perez Rodriguez about this demographic data (http://perezrovira.net/adria/pdfs/icap_demografia_JM.pdf, in Spanish)."
     ]
    },
    {
     "cell_type": "heading",
     "level": 2,
     "metadata": {},
     "source": [
      "2. Reading the data"
     ]
    },
    {
     "cell_type": "heading",
     "level": 3,
     "metadata": {},
     "source": [
      "2.1 Imports and external dependencies"
     ]
    },
    {
     "cell_type": "markdown",
     "metadata": {},
     "source": [
      "All modules are commonly used modules"
     ]
    },
    {
     "cell_type": "code",
     "collapsed": false,
     "input": [
      "# plot figures inline in the IPython notebook\n",
      "%matplotlib inline\n",
      "\n",
      "import csv\n",
      "import numpy as np\n",
      "import datetime\n",
      "import matplotlib.pyplot as plt\n",
      "from collections import Counter\n",
      "\n",
      "# set width of figures by default\n",
      "plt.rcParams['figure.figsize'] = (14.0, 6.0)"
     ],
     "language": "python",
     "metadata": {},
     "outputs": [],
     "prompt_number": 3
    },
    {
     "cell_type": "heading",
     "level": 3,
     "metadata": {},
     "source": [
      "2.2 Reading the data"
     ]
    },
    {
     "cell_type": "markdown",
     "metadata": {},
     "source": [
      "To import the data I created a small function that reads the CSV files (there are two, one for baptisms and one for funerals). The function returns the header (name of the fields stored on the first line of the CSV file), a numpy 2D array with all fields as strings, and a second copy with all fields capitalised. The second copy is used to compare strings, where capitalisation might differ due to the poor quality of data. In addition to read the data the function prints a list of all the fields, detailing the number of entries for each field and the value and frequency of the most common entry."
     ]
    },
    {
     "cell_type": "code",
     "collapsed": false,
     "input": [
      "def readDB( str_file ):\n",
      "\n",
      "    file  = open(str_file, \"r\")\n",
      "    reader = csv.reader(file)\n",
      "\n",
      "    rownum = 0\n",
      "    allData = []\n",
      "    ALLDATA = []\n",
      "\n",
      "    for iRow, row in enumerate(reader):\n",
      "\n",
      "        # Header row.\n",
      "        if iRow == 0:\n",
      "            header = row\n",
      "\n",
      "        else:\n",
      "            allData.append( row )\n",
      "            ALLDATA.append( [x.upper() for x in row] )\n",
      "\n",
      "    file.close()\n",
      "\n",
      "    # put all data in  numpy\n",
      "    npData = np.array(allData)\n",
      "    NPDATA = np.array(ALLDATA)\n",
      "\n",
      "    print ( \"\\nNumber of Entries: %4d\" % npData.shape[0] )\n",
      "    print ( \"Number of Columns: %4d\\n\" % npData.shape[1] )\n",
      "\n",
      "    # Check number of entries per column and the most common value\n",
      "    print ( \"                         # - Unique - Most common\" )\n",
      "\n",
      "    for idx in range(len(header)):\n",
      "        vec  = NPDATA[:,idx]\n",
      "        vec2 = vec [ NPDATA[:,idx] != '' ]\n",
      "\n",
      "        if len(vec2) > 0:\n",
      "            count = Counter(vec2)\n",
      "            print ( \"[%2s] %-15s: %4d - %6d - ( %4d | %s )\" % (idx, header[idx], vec2.size, len(count), count.most_common(1)[0][1], count.most_common(1)[0][0]) )\n",
      "        else:\n",
      "            print ( \"[%2s] %-15s: %4d\" % (idx, header[idx], vec2.size) )\n",
      "\n",
      "    return [header, npData, NPDATA]"
     ],
     "language": "python",
     "metadata": {},
     "outputs": [],
     "prompt_number": 4
    },
    {
     "cell_type": "heading",
     "level": 3,
     "metadata": {},
     "source": [
      "2.3 An overview of the births dataset"
     ]
    },
    {
     "cell_type": "code",
     "collapsed": false,
     "input": [
      "    [headerBirth, npBirthData, NPBIRTHDATA] = readDB ('data/allNacimientos.csv')"
     ],
     "language": "python",
     "metadata": {},
     "outputs": [
      {
       "output_type": "stream",
       "stream": "stdout",
       "text": [
        "\n",
        "Number of Entries: 5237\n",
        "Number of Columns:   42\n",
        "\n",
        "                         # - Unique - Most common\n",
        "[ 0] NOMBRE         : 5237 -   2442 - (  241 | MANUEL )\n",
        "[ 1] APELL1         : 5221 -    461 - (  381 | RODRIGUEZ )\n",
        "[ 2] APELL2         : 5217 -    569 - (  305 | RODRIGUEZ )"
       ]
      },
      {
       "output_type": "stream",
       "stream": "stdout",
       "text": [
        "\n",
        "[ 3] SEXO           : 5237 -      2 - ( 2722 | HOMBRE )\n",
        "[ 4] NACIMIENTO     : 5237 -   4967 - (    4 | 03/07/1839 )\n",
        "[ 5] DIA            : 5237 -    366 - (   26 | 83 )"
       ]
      },
      {
       "output_type": "stream",
       "stream": "stdout",
       "text": [
        "\n",
        "[ 6] YEAR           : 5237 -    216 - (   53 | 1834 )\n",
        "[ 7] YEAR_ID        : 5237 -     53 - (  216 | 5 )\n",
        "[ 8] DEFUNCION      :    0\n",
        "[ 9] BAUTISMO       : 1117 -   1092 - (    3 | 04/07/39 )\n",
        "[10] ENTERRAMIE     :    0\n",
        "[11] TESTIGDEF      :    0\n",
        "[12] ALBACEDEF      :    0"
       ]
      },
      {
       "output_type": "stream",
       "stream": "stdout",
       "text": [
        "\n",
        "[13] ORIGEN         :    8 -      6 - (    3 | PARVULO )\n",
        "[14] VECINDAD       :    0\n",
        "[15] ESTADCIVIL     :    0\n",
        "[16] LIBRAS         :    0\n",
        "[17] DINEROS        :    0\n",
        "[18] NOMPADRE       : 5224 -    237 - (  702 | MANUEL )\n",
        "[19] APELL2PAD      : 5222 -   1133 - (  167 | RODRIGUEZ )\n",
        "[20] NOMMADRE       : 5210 -    282 - (  986 | MARIA )"
       ]
      },
      {
       "output_type": "stream",
       "stream": "stdout",
       "text": [
        "\n",
        "[21] APELL2MAD      : 5217 -   1265 - (   96 | SANCHO )\n",
        "[22] VECINDPAD      :    2 -      2 - (    1 | ALCUBLAS )\n",
        "[23] ORIGPAD        :   25 -     18 - (    4 | (1) )\n",
        "[24] ORIGMAD        :   55 -     37 - (    4 | SEGORBE )\n",
        "[25] OFICIOPAD      :  533 -     65 - (  381 | LABRADOR )\n",
        "[26] OFICIOMAD      :    0\n",
        "[27] NPADRINO       : 3720 -    248 - (  437 | MANUEL )\n",
        "[28] NMADRINA       : 3794 -    309 - (  454 | MARIA )"
       ]
      },
      {
       "output_type": "stream",
       "stream": "stdout",
       "text": [
        "\n",
        "[29] OFPADRINO      :  331 -    109 - (   51 | CIRUJANO )\n",
        "[30] OFMADRINA      :    8 -      7 - (    2 | CRIADA DEL GOVERNADOR )\n",
        "[31] VECPADRINO     :  111 -     55 - (   18 | ALXIMIA )\n",
        "[32] VECMADRINA     :  109 -     47 - (   20 | SEGORBE )\n",
        "[33] PARENTESCP     :  898 -     78 - (  224 | M )\n",
        "[34] PARENTESCM     :  868 -    234 - (  227 | D )\n",
        "[35] CONYGE1        :    0\n",
        "[36] FEMATRI1       :    0\n",
        "[37] ECIVCONY1      :    0\n",
        "[38] NOTARIO1       :    0\n",
        "[39] OBSERVACN      : 1798 -   1425 - (   27 | (1) ABUELOS PATERNOS SE IGNORAN )\n",
        "[40] APELLMADRINA   : 3795 -    477 - (  295 | RODRIGUEZ )"
       ]
      },
      {
       "output_type": "stream",
       "stream": "stdout",
       "text": [
        "\n",
        "[41] APELLPADRINO   : 3716 -    482 - (  424 | RODRIGUEZ )\n"
       ]
      }
     ],
     "prompt_number": 5
    },
    {
     "cell_type": "markdown",
     "metadata": {},
     "source": [
      "The births CSV file contains 5237 entries with 42 columns. The number of entries for each column varies widely and 12 contain no data at all. We can already see that Rodriguez is the most common surname and Manuel the most common name. Looking at \"[20] NOMMADRE\" we can see that the most common name for mothers, hence women, is Maria.\n",
      "\n",
      "Other interesting data, albeit expected, is that the most common job \"[25] OFICIOPAD\" is \"LABRADOR\" (english: farmer) while the most common job for the padrino (Godfather) is CIRUJANO (surgeon). From this it is possible to infer that the Godfather role was most commonly taken by a higher social class person.\n",
      "\n",
      "In addition there are 1798 comments \"observaciones\" with rich, yet unstructured, information, for example:"
     ]
    },
    {
     "cell_type": "code",
     "collapsed": false,
     "input": [
      "print( npBirthData[427,39] )"
     ],
     "language": "python",
     "metadata": {},
     "outputs": [
      {
       "output_type": "stream",
       "stream": "stdout",
       "text": [
        "bautiz\u00e9 sup condicione un ni\u00f1o enmcontrado cuyos padres se ignoran el qual fue allado a la puerta de Felipe TORRES  a media noche\n"
       ]
      }
     ],
     "prompt_number": 6
    },
    {
     "cell_type": "markdown",
     "metadata": {},
     "source": [
      "English: I baptised sup condicione a boy with unknown parents who was found at the door of Felipe Torres at midnight."
     ]
    },
    {
     "cell_type": "code",
     "collapsed": false,
     "input": [
      "print( npBirthData[4013,39] )"
     ],
     "language": "python",
     "metadata": {},
     "outputs": [
      {
       "output_type": "stream",
       "stream": "stdout",
       "text": [
        "Fue bautizada en el acto de la nacencia por su abuela Theodora Pitarque y murio immediatamente.\n",
        "Examine la forma e intencion del bautismo y all\u00ed que estubo bien administrado\n"
       ]
      }
     ],
     "prompt_number": 7
    },
    {
     "cell_type": "markdown",
     "metadata": {},
     "source": [
      "English: Was baptised at birth by her grandmother Theodora Pitarque and died immediately.\n",
      "I examined the intention and correctness of the baptism and found that it was well performed."
     ]
    },
    {
     "cell_type": "heading",
     "level": 3,
     "metadata": {},
     "source": [
      "2.4 An overview of the funerals dataset"
     ]
    },
    {
     "cell_type": "code",
     "collapsed": false,
     "input": [
      "[headerDeath, npDeathData, NPDEATHDATA] = readDB ('data/allDefunciones.csv')"
     ],
     "language": "python",
     "metadata": {},
     "outputs": [
      {
       "output_type": "stream",
       "stream": "stdout",
       "text": [
        "\n",
        "Number of Entries: 4330\n",
        "Number of Columns:   28\n",
        "\n",
        "                         # - Unique - Most common\n",
        "[ 0] ALBACEDEF      :  471 -    401 - (   18 | EL RETOR )\n",
        "[ 1] APELL1         : 3115 -    440 - (  244 | RODRIGUEZ )\n",
        "[ 2] APELL2         : 1341 -    212 - (  128 | RODRIGUEZ )\n",
        "[ 3] APELL2MAD      : 2246 -    316 - (  186 | RODRIGUEZ )\n",
        "[ 4] APELL2PAD      : 2483 -    282 - (  222 | RODRIGUEZ )"
       ]
      },
      {
       "output_type": "stream",
       "stream": "stdout",
       "text": [
        "\n",
        "[ 5] CONYGE1        : 1275 -    898 - (   17 | D )\n",
        "[ 6] DEFUNCION      : 3704 -   3466 - (    4 | 5 6 1748 )\n",
        "[ 7] ECIVCONY1      : 1193 -     13 - (  787 | ESP )\n",
        "[ 8] DEFUNCION2     : 3703 -   3458 - (    4 | 25/1/1803 )"
       ]
      },
      {
       "output_type": "stream",
       "stream": "stdout",
       "text": [
        "\n",
        "[ 9] edatTEXT       : 2649 -    176 - ( 1523 | P )\n",
        "[10] ENTERRAMIE     : 3155 -   2856 - (   11 | 25 )\n",
        "[11] ENTERRAMIENTO2 : 3155 -   2856 - (   11 | 25 )"
       ]
      },
      {
       "output_type": "stream",
       "stream": "stdout",
       "text": [
        "\n",
        "[12] LIBRAS         :   31 -      9 - (    7 | 20 )\n",
        "[13] NOMBRE         : 3978 -    742 - (  273 | MARIA )\n",
        "[14] NOMMADRE       : 2429 -    246 - (  442 | MARIA )\n",
        "[15] NOMPADRE       : 2673 -    205 - (  368 | MANUEL )"
       ]
      },
      {
       "output_type": "stream",
       "stream": "stdout",
       "text": [
        "\n",
        "[16] NOTARIO1       :   40 -     29 - (    9 | LABRADOR )\n",
        "[17] OBSERVACN      : 2407 -   1548 - (  131 | IG )\n",
        "[18] OFICIO         :  334 -     78 - (   84 | LABRADOR )\n",
        "[19] OFICIOMAD      :    3 -      3 - (    1 | AMA )\n",
        "[20] OFICIOPAD      :  235 -     36 - (  109 | LABRADORES )\n",
        "[21] ORIGPAD        :    9 -      6 - (    3 | ALGIMIA )\n",
        "[22] SEXO           : 3923 -      4 - ( 2034 | HOMBRE )"
       ]
      },
      {
       "output_type": "stream",
       "stream": "stdout",
       "text": [
        "\n",
        "[23] SUELDOS        :    4 -      3 - (    2 | 0 )\n",
        "[24] TESTIGDEF      : 1312 -    439 - (  545 | EL PARROCO )\n",
        "[25] TIPO           :  340 -     48 - (  262 | POBRE )\n",
        "[26] VECINDAD       :  750 -     58 - (  621 | \u00c7 )\n",
        "[27] VECINDPAD      :   18 -      6 - (   11 | \u00c7 )\n"
       ]
      }
     ],
     "prompt_number": 8
    },
    {
     "cell_type": "markdown",
     "metadata": {},
     "source": [
      "Again, the most common surname is Rodriguez, given names are Manuel and Maria, and the most common job is \"labrador\". At this point we can see that the data is very incomplete with only 334 job entries out the 4330 subjects. However names of parents are plentiful (~2500, so we can hope to reconstruct some genealogy tree later on) and there are also observaciones (comments) in 2407 entries, which are quite interesting:"
     ]
    },
    {
     "cell_type": "code",
     "collapsed": false,
     "input": [
      "print( npDeathData[1051,17] )\n"
     ],
     "language": "python",
     "metadata": {},
     "outputs": [
      {
       "output_type": "stream",
       "stream": "stdout",
       "text": [
        "IG\n",
        "HF\n",
        "No sacramentos: muri\u00f3 de repente sin poderlo remediar pues cay\u00f3 en un lagar lleno de vino\n"
       ]
      }
     ],
     "prompt_number": 9
    },
    {
     "cell_type": "markdown",
     "metadata": {},
     "source": [
      "English: IG, HF (Hijo de Familia, denotes a teenager), No Sacrament: Died suddenly without remedy because he fell in a wine press full of wine."
     ]
    },
    {
     "cell_type": "code",
     "collapsed": false,
     "input": [
      "print( npDeathData[3794,17] )"
     ],
     "language": "python",
     "metadata": {},
     "outputs": [
      {
       "output_type": "stream",
       "stream": "stdout",
       "text": [
        "Se encontro asesinado el dia 14 en la partida llamada mojonada de este termino natural y vecino de Segorbe\n"
       ]
      }
     ],
     "prompt_number": 10
    },
    {
     "cell_type": "markdown",
     "metadata": {},
     "source": [
      "English: Was found murdered the on 14th in the \"Mojonada\" in this municipality. He was from Segore (Segorbe is the largest town in the region, 8Km away from Vall de Almonacid)"
     ]
    },
    {
     "cell_type": "code",
     "collapsed": false,
     "input": [
      "print( npDeathData[2825,17] )"
     ],
     "language": "python",
     "metadata": {},
     "outputs": [
      {
       "output_type": "stream",
       "stream": "stdout",
       "text": [
        "De ALTURA que estaba en este pueblo por huir de los Franceses\n",
        "Se le hizo entierro ordinario que pagaron sus hijos\n"
       ]
      }
     ],
     "prompt_number": 11
    },
    {
     "cell_type": "markdown",
     "metadata": {},
     "source": [
      "English: From Altura (another village, 10 km away) who was in this village fleeing from the French. A regular funeral was performed paid by his children.\n",
      "\n",
      "An yes, that was during the Spanish-French war (https://en.wikipedia.org/wiki/Peninsular_War):"
     ]
    },
    {
     "cell_type": "code",
     "collapsed": false,
     "input": [
      "print( npDeathData[2825,8] )"
     ],
     "language": "python",
     "metadata": {},
     "outputs": [
      {
       "output_type": "stream",
       "stream": "stdout",
       "text": [
        "23/7/1811\n"
       ]
      }
     ],
     "prompt_number": 12
    },
    {
     "cell_type": "code",
     "collapsed": false,
     "input": [
      "print( npDeathData[524,17] )"
     ],
     "language": "python",
     "metadata": {},
     "outputs": [
      {
       "output_type": "stream",
       "stream": "stdout",
       "text": [
        "\u201caviendo enfermado de enfermedad mortal, dicho dia al amanecer fue allada aogada en la balsa de la huerta mayor, y dudando el pueblo de la Vall si se le avia de dar sepultura o, no, cosa que al Pueblo no pertenecia sino al se\u00f1or obispo de Segorbe y su vicario General, el se\u00f1or don Chisostomo ROYO DE CASTELLVI, o RENS de la Sta Iglesia de Segorbe, su oficial general dicho dia mandaron que asta que se averiguare con testigos e informasemos si se avia desesperado, o, no, que la metiesen en una caxa hecha de tablas y fuese llevado el cadaver, asta que le recibieren los test\u00ba y se hicieron las debidas deligencias todo l\u00f1o qual se hizo obedeciuendo al dicho Rereen dissimo Sr, fue llevado el cadaver a la partida llamada rincon del pico de espadan cerca de la raya del termino distanmcia un tiro de piedra en donde ay un secano cuyo due\u00f1o vivae en la alcudia. Despues se recibieron ofrendas de personas fidelkes y testificaron que el dia de S Pedro la avian visto confesar con el cura por espoacio de dos horas y el mismo cura certifica que se comparo generalmente  de toda su vida y aviendo tenido tar juntos de Teologos en diferentes dias se informaron del medico que la avia visitado en una enfermedad y dicho y testifico que su enfermedad le hallo en punto, que iba dedicando a delirio ultimamente dichos informaciones determino y mando a san Vicario general que se tocasen a muerto y se le dijera misa cantada de cuerpo presente y que el curo fuese personalmente  al pico de Espedan y que se le vendijese la sepultaura solemnemente y que estubiese el cadaver depritado asta tanto que qede convertido y despues que rezen tratidos los mesos la misma caxa el cementerio a Campo Santo del dixo lugar en donde esta enterrado los demas fieles Serian diez libras para que se celebre bien por su alma y que se le diga misas rezadas....\n",
        "Esta enterrado el cadaver en el cementerio al pie de la cruz en 09.08.1682\n"
       ]
      }
     ],
     "prompt_number": 13
    },
    {
     "cell_type": "markdown",
     "metadata": {},
     "source": [
      "English: Being mortally ill she was found drowned on the fields watering pond. The village doubted if she was to be buried on the graveyard or not (suicides would prevent people to get buried there) but the decision was to be taken by the bishop and the church. The general official of the bishop then instructed to put the body in a plank box and leave it to the \"Rincon del pico espadan\", at the edge of the municipality, until the witnesses could testify and the investigation was concluded. Witnesses testified that they had seen her confessing with the priest for 2 hours and the priest detailed that she had confesses about her entire life. Theologians consulted the doctor that had attended her and he explained that her illness induced her delirium. With this information the general vicar instructed to toll for the dead and that she was to have sang mass with the deceased's body present. In addition, once the body had been converted, the priest was to go personally to the \"Rincon del pico espadan\" and perform the funeral duties solemnly, accompanying the body until she was buried in the graveyard with all other Catholics."
     ]
    },
    {
     "cell_type": "heading",
     "level": 2,
     "metadata": {},
     "source": [
      "3. Digging into the data"
     ]
    },
    {
     "cell_type": "markdown",
     "metadata": {},
     "source": [
      "Now that we have an idea of what is in the data, let's see what can we learn from it."
     ]
    },
    {
     "cell_type": "heading",
     "level": 3,
     "metadata": {},
     "source": [
      "3.1 The most common values for each field"
     ]
    },
    {
     "cell_type": "markdown",
     "metadata": {},
     "source": [
      "To check the most common entries of each field I wrote the following function, which given a list of entries relies on the Counter structure to sort the items in the list and print them in order, with the number of occurrences in brackets:"
     ]
    },
    {
     "cell_type": "code",
     "collapsed": false,
     "input": [
      "def printMostCommon( vec, n=float(\"inf\") ):\n",
      "\n",
      "    vec2 = vec [ vec != '' ]\n",
      "    count = Counter(vec2)\n",
      "\n",
      "    print (\"Most common entries:\")\n",
      "    for idx in range(len(count)):\n",
      "        if idx  > n-1:\n",
      "            break\n",
      "        print ( \"%4d : %s\" % (count.most_common()[idx][1], count.most_common()[idx][0]) )"
     ],
     "language": "python",
     "metadata": {},
     "outputs": [],
     "prompt_number": 14
    },
    {
     "cell_type": "markdown",
     "metadata": {},
     "source": [
      "A quick look to jobs show that something is amiss."
     ]
    },
    {
     "cell_type": "code",
     "collapsed": false,
     "input": [
      "printMostCommon( NPDEATHDATA[:,18], 15 )"
     ],
     "language": "python",
     "metadata": {},
     "outputs": [
      {
       "output_type": "stream",
       "stream": "stdout",
       "text": [
        "Most common entries:\n",
        "  84 : LABRADOR\n",
        "  37 : LABRADORA\n",
        "  36 : HOSPITAL GENERAL\n",
        "  21 : STO HOSP\n",
        "  18 : HOSP GRAL VCIA\n",
        "  16 : AMA\n",
        "  10 : STO HOSPITAL\n",
        "   6 : LABRADOR POBRE\n",
        "   6 : PASTOR\n",
        "   5 : LABRADORA POBRE\n",
        "   4 : TEXEDOR\n",
        "   4 : LABRADORES\n",
        "   4 : HOSPITAL GENERAL DE VALENCIA\n",
        "   3 : CIRUJANO\n",
        "   3 : DEL HOSPITAL GENERAL\n"
       ]
      }
     ],
     "prompt_number": 15
    },
    {
     "cell_type": "markdown",
     "metadata": {},
     "source": [
      "So followed by farmer, the most common job was... farmer (but the female version of it)!\n",
      "\n",
      "Nevertheless something is amiss here, as the 3rd, 4th, and 5th most common jobs are a hospital. The most plausible explanation though is that these were kids that had been taken from a hospital (couples who couldn't have kids, or only had girls, usually did that back in the day) and died young, and the priest (who wrote these records) opted to mention that in the job field.\n",
      "\n",
      "Notice that beside farmer, another \"popular\" job was \"LABRADOR POBRE\" (Poor farmer)."
     ]
    },
    {
     "cell_type": "code",
     "collapsed": false,
     "input": [
      "printMostCommon( NPDEATHDATA[:,13], 15 )"
     ],
     "language": "python",
     "metadata": {},
     "outputs": [
      {
       "output_type": "stream",
       "stream": "stdout",
       "text": [
        "Most common entries:\n",
        " 273 : MARIA\n",
        " 271 : MANUEL\n",
        " 183 : FRANCISCO\n",
        " 148 : MIGUEL\n",
        " 148 : JOSEPH\n",
        " 127 : MANUELA\n",
        " 124 : JOSEF\n",
        " 120 : VICENTE\n",
        " 111 : ROSA\n",
        "  80 : JUAN\n",
        "  79 : FRANCISCA\n",
        "  78 : VICENTA\n",
        "  67 : TERESA\n",
        "  64 : MARIA ROSA\n",
        "  51 : ANTONIO\n"
       ]
      }
     ],
     "prompt_number": 16
    },
    {
     "cell_type": "markdown",
     "metadata": {},
     "source": [
      "Looking at the 15 most common names we can see Joseph and Josef add to 272 occurrences, overtaking Manuel as the most common name. And that is without counting all the Jose and compound names so popular in Spain."
     ]
    },
    {
     "cell_type": "heading",
     "level": 3,
     "metadata": {},
     "source": [
      "3.2 Delay between death and funeral"
     ]
    },
    {
     "cell_type": "markdown",
     "metadata": {},
     "source": [
      "It is common in Spain to bury the deceased in the few immediate days after death. That contrasts with other Catholic countries, like Ireland, where burials can happen up to a week later than the death.\n",
      "\n",
      "We can check the distance between death and burial, as we have these two dates in NPDEATHDATA[:,8] and NPDEATHDATA[:,11]. For this we have to use the try instruction to avoid getting errors when there is no date string or this is uncomplete."
     ]
    },
    {
     "cell_type": "code",
     "collapsed": false,
     "input": [
      "diffBurial = []\n",
      "for ii, defuncion in enumerate(NPDEATHDATA[:,8]):\n",
      "    if (defuncion != '') and (NPDEATHDATA[ii,11] != ''):\n",
      "        try:\n",
      "            deathDate  = datetime.datetime.strptime(defuncion,     '%d/%m/%Y').date()\n",
      "            burialDate = datetime.datetime.strptime(NPDEATHDATA[ii,11], '%d/%m/%Y').date()\n",
      "            diffBurial.append( (burialDate - deathDate).days )\n",
      "        except: \n",
      "            pass\n",
      "\n",
      "delay = Counter(diffBurial)\n",
      "print ( \"\\nDelay between death and funeral for %d funerals:\" % len(diffBurial))\n",
      "for idx in range(len(delay)):\n",
      "    print ( \"%4d : %d dias\" % (delay.most_common()[idx][1], delay.most_common()[idx][0]) )"
     ],
     "language": "python",
     "metadata": {},
     "outputs": [
      {
       "output_type": "stream",
       "stream": "stdout",
       "text": [
        "\n",
        "Delay between death and funeral for 2349 funerals:\n",
        "2283 : 1 dias\n",
        "  25 : 0 dias\n",
        "  13 : 2 dias\n",
        "   4 : -1 dias\n",
        "   3 : -30 dias\n",
        "   2 : 367 dias\n",
        "   1 : 3 dias\n",
        "   1 : 4 dias\n",
        "   1 : 5 dias\n",
        "   1 : 7 dias\n",
        "   1 : -89848 dias\n",
        "   1 : 10 dias\n",
        "   1 : -1460 dias\n",
        "   1 : 335 dias\n",
        "   1 : -364 dias\n",
        "   1 : 21 dias\n",
        "   1 : -96423 dias\n",
        "   1 : 90 dias\n",
        "   1 : 93 dias\n",
        "   1 : 29 dias\n",
        "   1 : 366 dias\n",
        "   1 : 8 dias\n",
        "   1 : -81479 dias\n",
        "   1 : 381 dias\n",
        "   1 : -2 dias\n"
       ]
      }
     ],
     "prompt_number": 17
    },
    {
     "cell_type": "markdown",
     "metadata": {},
     "source": [
      "From 2349 funerals, 2283 (97.2%) happened the day immediately after the death, 25 the same day, 13 after 2 days, and a 7 between 3 and 21 days.\n",
      " \n",
      "Keep in mind, however, that for the 4330 entreis, there is no recording of the death date in around 2000. Probably because dead and funeral happened at the same time and the priests opted for only filling one field in the book.\n",
      "\n",
      "In addition it can clearly be seen that there are numerous typos on the data, as 12 entries report a funeral before the death. In 12 other cases it looks like there is shift likely to be due to a typo (1 month, 3 months, 1 year, etc)."
     ]
    },
    {
     "cell_type": "heading",
     "level": 3,
     "metadata": {},
     "source": [
      "3.3 Distribution of events in time"
     ]
    },
    {
     "cell_type": "markdown",
     "metadata": {},
     "source": [
      "Next step is to visualise the distribution of births and deaths by year, and also by month. For that I wrote these 3 functions:"
     ]
    },
    {
     "cell_type": "code",
     "collapsed": false,
     "input": [
      "# Hide the right and top axes\n",
      "def remove2axis(ax):\n",
      "    ax.spines['right'].set_visible(False)\n",
      "    ax.spines['top'].set_visible(False)\n",
      "\n",
      "    # Only show ticks on the left and bottom spines\n",
      "    ax.yaxis.set_ticks_position('left')\n",
      "    ax.xaxis.set_ticks_position('bottom')\n",
      "    \n",
      "# Modified z-score\n",
      "def MADscore(vec):\n",
      "    median = np.median(vec)\n",
      "    median_absolute_deviation = np.median([np.abs(v - median) for v in vec])\n",
      "    modified_z_scores = [0.6745 * (v - median) / median_absolute_deviation for v in vec]\n",
      "    return modified_z_scores\n",
      "\n",
      "# Print and plot distributions\n",
      "def plotDateDistribution ( vec, str_ylabel, showPlot=True, showByYear=True, showByDay=False ):\n",
      "\n",
      "#        str_day = ['Domingo', 'Lunes', 'Martes', 'Miercoles', 'Jueves', 'Viernes', 'Sabado']\n",
      "#        str_months = ['Enero', 'Febrero', 'Marzo', 'Abril', 'Mayo', 'Junio',\n",
      "#                    'Julio', 'Agosto', 'Setiembre', 'Octubre', 'Noviembre', 'Diciembre']\n",
      "        \n",
      "        str_day = ['Sunday', 'Monday', 'Tuesday', 'Wednesday', 'Thursday', 'Friday', 'Saturday']\n",
      "        str_months = ['January', 'February', 'March', 'April', 'May', 'June',\n",
      "                    'July', 'August', 'September', 'October', 'November', 'December']\n",
      "\n",
      "        distributionDay   = [0] * 7\n",
      "        distributionMonth = [0] * 12\n",
      "        distributionYear  = [0] * 2000\n",
      "\n",
      "        # put entries in bin for each occurance\n",
      "        for d in vec:\n",
      "            try:\n",
      "                deathDate = datetime.datetime.strptime(d, '%d/%m/%Y').date()\n",
      "                distributionDay[deathDate.weekday()] += 1\n",
      "                distributionMonth[deathDate.month-1] += 1\n",
      "                distributionYear[deathDate.year]     += 1\n",
      "            except: \n",
      "                pass\n",
      "\n",
      "        # compute z-scores to detect outliers\n",
      "        zScoreDay   = MADscore(distributionDay)\n",
      "        zScoreMonth = MADscore(distributionMonth)\n",
      "        zScoreYear  = MADscore(distributionYear)\n",
      "\n",
      "        # find first and last year with data \n",
      "        min_year = next(i for i, v in enumerate(distributionYear) if v > 0)\n",
      "        max_year_tmp = next(i for i, v in enumerate(reversed(distributionYear)) if v > 0)\n",
      "        max_year = len(distributionYear) - 1 - max_year_tmp\n",
      "        yearRange = np.arange(min_year, max_year+1)\n",
      "\n",
      "        # Print distributions on console\n",
      "        if showByDay:\n",
      "            print( \"\\nBy day: \")\n",
      "            for i, v in enumerate(distributionDay):\n",
      "                print ( \"%12s : %4d ( %+.2f )\" % (str_day[i], v, zScoreDay[i]) )\n",
      "\n",
      "        print( \"\\nBy month: \")\n",
      "        for i, v in enumerate(distributionMonth):\n",
      "            print ( \"%12s : %4d ( %+.2f )\" % (str_months[i], v, zScoreMonth[i]) )\n",
      "\n",
      "        if showPlot:\n",
      "            fig = plt.figure()\n",
      "            fig.suptitle(\"By Month\")\n",
      "            ax1 = plt.gca()\n",
      "            ax1.bar(range(12), distributionMonth, align='center', linewidth = '0', alpha=0.8, color='darkorange')\n",
      "            ax1.set_xticks( range(12) )\n",
      "            ax1.set_xticklabels( [v[0] for v in str_months] )\n",
      "            ax1.set_ylabel( str_ylabel )\n",
      "            plt.margins(0.05, 0)\n",
      "            x1,x2,y1,y2 = ax1.axis()\n",
      "            ax1.axis((x1,x2,y1,y2 + 5))\n",
      "            remove2axis(ax1)\n",
      "\n",
      "            if showByDay:\n",
      "                fig = plt.figure()\n",
      "                fig.suptitle(\"By Day\")\n",
      "                ax2 = plt.gca()\n",
      "                ax2.bar(range(7), distributionDay, align='center', linewidth = '0', alpha=0.8, color='darkorange')\n",
      "                ax2.set_xticks( range(7) )\n",
      "                ax2.set_xticklabels( [v[0] for v in str_day] )\n",
      "                plt.ylabel( str_ylabel )\n",
      "                plt.margins(0.05, 0)\n",
      "                x1,x2,y1,y2 = ax2.axis()\n",
      "                ax2.axis((x1,x2,y1,y2 + 5))\n",
      "                remove2axis(ax2)\n",
      "\n",
      "            if showByYear:\n",
      "                values = distributionYear[min_year:max_year+1]\n",
      "                fig = plt.figure()\n",
      "                fig.suptitle(\"By Year\")\n",
      "                ax3 = plt.gca()\n",
      "                ax3.bar( yearRange, values, align='center', width=1, linewidth = '0', alpha=0.8, color='darkorange')\n",
      "                ax3.set_xticks( [v for v in yearRange if v % 10 == 0] )\n",
      "                plt.ylabel( str_ylabel )\n",
      "                plt.margins(0.03, 0)\n",
      "                x1,x2,y1,y2 = ax3.axis()\n",
      "                ax3.axis((x1,x2,y1,y2 + 5))\n",
      "                remove2axis(ax3)\n",
      "\n",
      "#            fig.subplots_adjust(left=0.06, right=0.99, top= 0.99, bottom=0.05)\n",
      "            plt.show()\n",
      "\n",
      "        else:\n",
      "            fig = None\n",
      "\n",
      "        return [fig, distributionDay, distributionMonth, distributionYear]\n"
     ],
     "language": "python",
     "metadata": {},
     "outputs": [],
     "prompt_number": 84
    },
    {
     "cell_type": "markdown",
     "metadata": {},
     "source": [
      "Notice that this function also allows to explore the distributions of births and deaths across the days of the week. However I removed that part of the analysis as nothing interesting came out of it (all distributions were basically uniform)"
     ]
    },
    {
     "cell_type": "heading",
     "level": 4,
     "metadata": {},
     "source": [
      "3.3.1 When did births occur?"
     ]
    },
    {
     "cell_type": "code",
     "collapsed": false,
     "input": [
      "[figBirth, birthByDay, birthByMonth, birthByYear] = plotDateDistribution ( npBirthData[:,4], '# Births', True )"
     ],
     "language": "python",
     "metadata": {},
     "outputs": [
      {
       "output_type": "stream",
       "stream": "stdout",
       "text": [
        "\n",
        "By month: \n",
        "     January :  447 ( +0.09 )\n",
        "    February :  475 ( +0.65 )\n",
        "       March :  570 ( +2.57 )\n",
        "       April :  438 ( -0.09 )\n",
        "         May :  513 ( +1.42 )\n",
        "        June :  452 ( +0.19 )\n",
        "        July :  462 ( +0.39 )\n",
        "      August :  354 ( -1.78 )\n",
        "   September :  336 ( -2.14 )\n",
        "     October :  432 ( -0.21 )\n",
        "    November :  408 ( -0.69 )\n",
        "    December :  350 ( -1.86 )\n"
       ]
      },
      {
       "metadata": {},
       "output_type": "display_data",
       "png": "[encoded data removed]",
       "text": [
        "<matplotlib.figure.Figure at 0x7fedb0cd3358>"
       ]
      },
      {
       "metadata": {},
       "output_type": "display_data",
       "png": "[encoded data removed]",
       "text": [
        "<matplotlib.figure.Figure at 0x7fedb0c571d0>"
       ]
      }
     ],
     "prompt_number": 85
    },
    {
     "cell_type": "markdown",
     "metadata": {},
     "source": [
      "The distribution by month shows a higher rate of births in the spring. March, the month with highest number of births has a modified z-score of 2.57. So a bit of an outlier but nothing exceptional (usually an outlier is considered as such when the z-score is over 3.5).\n",
      "\n",
      "Despite not statistically significant, December shows a reducition in births, probably due to the reduced conception during Lent.\n",
      "\n",
      "On the distribution by year we can see a steady increase in births along time, with a marked boom in the 1750 to 1770."
     ]
    },
    {
     "cell_type": "heading",
     "level": 4,
     "metadata": {},
     "source": [
      "3.3.2 When did deaths occur?"
     ]
    },
    {
     "cell_type": "code",
     "collapsed": false,
     "input": [
      "[figDeath, deathByDay, deathByMonth, deathByYear] = plotDateDistribution ( npDeathData[:,8], '# Funerals', True )"
     ],
     "language": "python",
     "metadata": {},
     "outputs": [
      {
       "output_type": "stream",
       "stream": "stdout",
       "text": [
        "\n",
        "By month: \n",
        "     January :  322 ( +0.78 )\n",
        "    February :  236 ( -1.25 )\n",
        "       March :  272 ( -0.40 )\n",
        "       April :  293 ( +0.09 )\n",
        "         May :  277 ( -0.28 )\n",
        "        June :  259 ( -0.71 )\n",
        "        July :  364 ( +1.77 )\n",
        "      August :  486 ( +4.66 )\n",
        "   September :  325 ( +0.85 )\n",
        "     October :  285 ( -0.09 )\n",
        "    November :  267 ( -0.52 )\n",
        "    December :  316 ( +0.64 )\n"
       ]
      },
      {
       "metadata": {},
       "output_type": "display_data",
       "png": "[encoded data removed]",
       "text": [
        "<matplotlib.figure.Figure at 0x7fedb0f881d0>"
       ]
      },
      {
       "metadata": {},
       "output_type": "display_data",
       "png": "[encoded data removed]",
       "text": [
        "<matplotlib.figure.Figure at 0x7fedb0c4f5f8>"
       ]
      }
     ],
     "prompt_number": 86
    },
    {
     "cell_type": "markdown",
     "metadata": {},
     "source": [
      "From the month distribution we see that August (A) has an abnormal spike of deaths with a modified z-score of +4.66 (Usually anything above 3.5 is considered outlier). In addition July and September are the 2nd and 3rd months with highest number of funerals.\n",
      "\n",
      "At first we could think that given the high child mortality back then, a spike in deaths could be explained by a spike in births. However looking at the distribution of births previously plotted we see than that is not case, with August and Septembre being the months with lowest number of births. Could it be that summer and the spanish heat is worse for the population? Maybe it was due to accidents in the fields, wars being more common in the summer? We don't know, but we will come back to analysis in Section 3.4.\n",
      "\n",
      "Distribution by year show no births from 1637 until 1663. This, I have been told, was due not because of a lack of births, but because the sheets from the records book of that period were tore. Probably to light a fire...\n",
      "\n",
      "Similarly, in 1780 there are no deaths reported, but this is also probably due to missing records, as birth records exist therefore it is likely that the priest would have recorded funerals as well.\n",
      "\n",
      "Another interesting fact is 1803, with that huge spike in deaths: Could it be wars, the plague, a bad crop? We don't know but we will take a look to that later on in Section 3.5, to see what the data says."
     ]
    },
    {
     "cell_type": "heading",
     "level": 3,
     "metadata": {},
     "source": [
      "3.4 Trying to explain the spike of deaths in the summer"
     ]
    },
    {
     "cell_type": "markdown",
     "metadata": {},
     "source": [
      "As seen in the distribution of deaths by month of the year, the summer months showed a higher mortality. This was a bit of a surprise for me, as I expected a nearly uniform distribution or an increase during winter, when the conditions are harsh (subzero temperatures are not rare during the winter months in this region).\n",
      "\n",
      "In order to investigate any possible underlying cause that explains the super mortality spike, we first will separate adults from children:\n",
      "\n",
      "In the field NPDEATHDATA[:,9] there is written an abbreviation of the age of people at their funerals. 'ALB' (Albado/a), 'P' (Parvulo), 'N' (Ni\u00f1o/a), 'NI\u00d1O' and 'NI\u00d1A' denote children, while A (Adulto) and '' (the absence of any identifier) denote adults. HF (Hijo de familia) and the remaining indicators are excluded from this analysis."
     ]
    },
    {
     "cell_type": "code",
     "collapsed": false,
     "input": [
      "printMostCommon( NPDEATHDATA[:,9], 15 )"
     ],
     "language": "python",
     "metadata": {},
     "outputs": [
      {
       "output_type": "stream",
       "stream": "stdout",
       "text": [
        "Most common entries:\n",
        "1523 : P\n",
        " 391 : A\n",
        " 158 : N\n",
        "  85 : ALB\n",
        "  57 : HF\n",
        "  25 : RN\n",
        "  23 : 2\n",
        "  19 : 1\n",
        "  16 : D\n",
        "  11 : MY\n",
        "   9 : NI\u00d1A\n",
        "   8 : 4\n",
        "   7 : 18M\n",
        "   7 : NI\u00d1O\n",
        "   7 : MN\n"
       ]
      }
     ],
     "prompt_number": 87
    },
    {
     "cell_type": "code",
     "collapsed": false,
     "input": [
      "# Separate adults and children\n",
      "adults = []\n",
      "children = []\n",
      "\n",
      "for i, v in enumerate(NPDEATHDATA[:,9]):\n",
      "    if v in ['', 'A']:\n",
      "        adults.append(NPDEATHDATA[i,8])\n",
      "    if v in ['P', 'ALB', 'A', 'N', 'NI\u00d1A', '\u0143I\u00d1O']:\n",
      "        children.append(NPDEATHDATA[i,8])\n",
      "\n",
      "print (\"Total number of adult deaths: %d\" % len(adults))\n",
      "\n",
      "[figDeathAdults, deathByDayAdults, deathByMonthAdults, deathByYearAdults] = \\\n",
      "    plotDateDistribution ( adults, '# Funerals Adults', True )"
     ],
     "language": "python",
     "metadata": {},
     "outputs": [
      {
       "output_type": "stream",
       "stream": "stdout",
       "text": [
        "Total number of adult deaths: 2072\n",
        "\n",
        "By month: \n",
        "     January :  158 ( +0.89 )\n",
        "    February :  132 ( -0.71 )\n",
        "       March :  133 ( -0.64 )\n",
        "       April :  158 ( +0.89 )\n",
        "         May :  138 ( -0.34 )\n",
        "        June :  126 ( -1.07 )\n",
        "        July :  146 ( +0.15 )\n",
        "      August :  185 ( +2.54 )\n",
        "   September :  133 ( -0.64 )\n",
        "     October :  163 ( +1.20 )\n",
        "    November :  141 ( -0.15 )\n",
        "    December :  149 ( +0.34 )\n"
       ]
      },
      {
       "metadata": {},
       "output_type": "display_data",
       "png": "[encoded data removed]",
       "text": [
        "<matplotlib.figure.Figure at 0x7fedb3183080>"
       ]
      },
      {
       "metadata": {},
       "output_type": "display_data",
       "png": "[encoded data removed]",
       "text": [
        "<matplotlib.figure.Figure at 0x7fee5a69f1d0>"
       ]
      }
     ],
     "prompt_number": 88
    },
    {
     "cell_type": "markdown",
     "metadata": {},
     "source": [
      "Yes, while reduced (z-score = +2.54), the spike in August remains when only adults are taken into consideration."
     ]
    },
    {
     "cell_type": "code",
     "collapsed": false,
     "input": [
      "print (\"Total number of children deaths: %d\" % len(children))\n",
      "\n",
      "[figDethChildren, deathByDayChildren, deathByMonthChildren, deathByYearChildren] = \\\n",
      "    plotDateDistribution ( children, '# Funerals Children', True )"
     ],
     "language": "python",
     "metadata": {},
     "outputs": [
      {
       "output_type": "stream",
       "stream": "stdout",
       "text": [
        "Total number of children deaths: 2166\n",
        "\n",
        "By month: \n",
        "     January :  154 ( +1.10 )\n",
        "    February :   91 ( -1.56 )\n",
        "       March :  130 ( +0.08 )\n",
        "       April :  118 ( -0.42 )\n",
        "         May :  120 ( -0.34 )\n",
        "        June :  126 ( -0.08 )\n",
        "        July :  211 ( +3.50 )\n",
        "      August :  316 ( +7.93 )\n",
        "   September :  181 ( +2.23 )\n",
        "     October :  121 ( -0.30 )\n",
        "    November :  124 ( -0.17 )\n",
        "    December :  150 ( +0.93 )\n"
       ]
      },
      {
       "metadata": {},
       "output_type": "display_data",
       "png": "[encoded data removed]",
       "text": [
        "<matplotlib.figure.Figure at 0x7fedb1fa2978>"
       ]
      },
      {
       "metadata": {},
       "output_type": "display_data",
       "png": "[encoded data removed]",
       "text": [
        "<matplotlib.figure.Figure at 0x7fedb0be0eb8>"
       ]
      }
     ],
     "prompt_number": 89
    },
    {
     "cell_type": "markdown",
     "metadata": {},
     "source": [
      "When we focus on children, the summer spike becomes increasingly pronounced (z-score +7.93). This should then exclude the explanation that summer deaths were related to an increase in labour activity or warfare, a task mainly performed by adults, or older children.\n",
      "\n",
      "To exclude violent deaths as the cause of the summer spike in mortality, we can look at deaths separated by gender. A high rate of male deaths could indicate a spike in violent deaths, as men were more involved in warfare and farming labour:"
     ]
    },
    {
     "cell_type": "code",
     "collapsed": false,
     "input": [
      "# Spearate adults deaths by gender\n",
      "male = []\n",
      "female = []\n",
      "\n",
      "for i, v in enumerate(NPDEATHDATA[:,9]):\n",
      "    if v in ['', 'A']:\n",
      "        if NPDEATHDATA[i,22] == 'HOMBRE':\n",
      "            male.append(NPDEATHDATA[i,8])\n",
      "        else:\n",
      "            female.append(NPDEATHDATA[i,8])\n",
      "\n",
      "print (\"Total number of male adult deaths: %d\" % len(male))\n",
      "print (\"Total number of female adult deaths: %d\" % len(female))"
     ],
     "language": "python",
     "metadata": {},
     "outputs": [
      {
       "output_type": "stream",
       "stream": "stdout",
       "text": [
        "Total number of male adult deaths: 967\n",
        "Total number of female adult deaths: 1105\n"
       ]
      }
     ],
     "prompt_number": 90
    },
    {
     "cell_type": "markdown",
     "metadata": {},
     "source": [
      "And the ratio by month:"
     ]
    },
    {
     "cell_type": "code",
     "collapsed": false,
     "input": [
      "deathByMonthMaleAdults   = [0] * 12\n",
      "deathByMonthFemaleAdults = [0] * 12\n",
      "\n",
      "for m in male:\n",
      "    try:\n",
      "        deathDate = datetime.datetime.strptime(m, '%d/%m/%Y').date()\n",
      "        deathByMonthMaleAdults[deathDate.month-1] += 1\n",
      "    except: \n",
      "        pass\n",
      "\n",
      "for f in female:\n",
      "    try:\n",
      "        deathDate = datetime.datetime.strptime(f, '%d/%m/%Y').date()\n",
      "        deathByMonthFemaleAdults[deathDate.month-1] += 1\n",
      "    except: \n",
      "        pass    \n",
      "    \n",
      "MFratio = np.array(deathByMonthMaleAdults) / (np.array(deathByMonthFemaleAdults) + np.array(deathByMonthMaleAdults)) * 100\n",
      "MFscore = MADscore(MFratio)\n",
      "\n",
      "print( \"\\nBy month: \")\n",
      "for i, v in enumerate(MFratio):\n",
      "    print ( \"%12s : %4.1f ( %+.2f )\" % (i, v, MFscore[i]) )"
     ],
     "language": "python",
     "metadata": {},
     "outputs": [
      {
       "output_type": "stream",
       "stream": "stdout",
       "text": [
        "\n",
        "By month: \n",
        "           0 : 55.7 ( +2.84 )\n",
        "           1 : 46.2 ( -0.59 )\n",
        "           2 : 51.9 ( +1.46 )\n",
        "           3 : 47.5 ( -0.14 )\n",
        "           4 : 42.8 ( -1.84 )\n",
        "           5 : 46.8 ( -0.37 )\n",
        "           6 : 44.5 ( -1.20 )\n",
        "           7 : 49.7 ( +0.68 )\n",
        "           8 : 46.6 ( -0.45 )\n",
        "           9 : 49.7 ( +0.67 )\n",
        "          10 : 48.2 ( +0.14 )\n",
        "          11 : 57.0 ( +3.33 )\n"
       ]
      }
     ],
     "prompt_number": 91
    },
    {
     "cell_type": "code",
     "collapsed": false,
     "input": [
      "fig = plt.figure()\n",
      "plt.plot(range(12), MFratio, alpha=0.8, linewidth=4, color='darkorange')\n",
      "plt.plot([-0, 11], [50, 50], linewidth=2, alpha=0.3, color='gray')\n",
      "plt.ylabel( 'Percentage of deaths that were male' )\n",
      "plt.xticks( range(12), ['J', 'F', 'M', 'A', 'M', 'J', 'J', 'A', 'S', 'O', 'N', 'D'] )\n",
      "plt.margins(0.05)"
     ],
     "language": "python",
     "metadata": {},
     "outputs": [
      {
       "metadata": {},
       "output_type": "display_data",
       "png": "[encoded data removed]",
       "text": [
        "<matplotlib.figure.Figure at 0x7fedb2a73cf8>"
       ]
      }
     ],
     "prompt_number": 94
    },
    {
     "cell_type": "markdown",
     "metadata": {},
     "source": [
      "The only months that (adult) male died more often than (adult) female were January (55.7%), March (51.9%), and Decembre (57.0%) but not in the summer, where the ration remained slightly under 50%. This further suggests that the increase in summer deaths were not violent in nature, as neither males nor adults had a higher mortality than female or children.\n",
      "\n",
      "So while it is hard to extract conclusions from this limited dataset, the data shows that the summers had an increased mortality, especially on children, that were not related to violent deaths.\n",
      "\n",
      "When we compare this data with other demographic studies we see that in \"Evolucion Demografica de Cortes de Arenoso desde 1560 a 1660\" by Antonio Poveda Ayora, MSc Thesis, Universidad de Valencia, 1982, a similar spike is reported in the month of August (with a 38% increase over the mean). In page 282 he reports:\n",
      "\n",
      "\"El m\u00e1ximo de defunciones que se registran en Cortes de Arenoso en los meses de agosto y septiembre puede deberse a la incidencia que, sobre estos meses, tendr\u00eda la mortalidad de ni\u00f1os, pues las causas de la mortalidad infantil eran, fundamentalmente, las diarreas estivales antes de las lluvias de oto\u00f1o, debidas a la sequedad, altas temperaturas, empleo de aguas contaminadas, etc.\"\n",
      "\n",
      "English: \"The maximum of deaths registered in Cortes de Arenoso in August and September can be due the high children's mortality, as main children mortality causes were summer diarrhea before autumn rains as consequence of dry weather, high temperatures, contaminated waters, etc.\""
     ]
    },
    {
     "cell_type": "heading",
     "level": 3,
     "metadata": {},
     "source": [
      "3.5 Child mortality as an index of prosperity"
     ]
    },
    {
     "cell_type": "markdown",
     "metadata": {},
     "source": [
      "We have seen that the period between 1750 and 1780 showed an increase in births that might be attributed to a higher standard of living. To confirm that we can take a look at child mortality, as there is an association between higher child mortality and poorer living conditions."
     ]
    },
    {
     "cell_type": "code",
     "collapsed": false,
     "input": [
      "# we already have computed deathByYearChildren and deathByYearAdult\n",
      "#ChildrenMortalityRatio = np.array(deathByYearChildren) / (np.array(deathByYearAdults) + np.array(deathByYearChildren)) * 100\n",
      "#CRscore = MADscore(ChildrenMortalityRatio)\n",
      "\n",
      "childrenMortalityRatio = [np.nan] * 2000\n",
      "for i, v in enumerate(deathByYearChildren):\n",
      "    if v > 0 or deathByYearAdults[i] > 0:\n",
      "        childrenMortalityRatio[i] = deathByYearChildren[i] / (deathByYearChildren[i] + deathByYearAdults[i]) * 100\n",
      "\n",
      "#print( childrenMortalityRatio )\n",
      "\n",
      "# find first and last year with data \n",
      "min_year = next(i for i, v in enumerate(childrenMortalityRatio) if v != np.nan)\n",
      "max_year_tmp = next(i for i, v in enumerate(reversed(childrenMortalityRatio)) if v != np.nan)\n",
      "max_year = len(childrenMortalityRatio) - 1 - max_year_tmp\n",
      "yearRange = np.arange(min_year, max_year+1)\n",
      "\n",
      "fig = plt.figure()\n",
      "fig.suptitle(\"Child mortality by year\")\n",
      "plt.bar(yearRange, childrenMortalityRatio[min_year:max_year+1], align='center', linewidth=0, width=1, color='darkorange', alpha=0.8)\n",
      "#plt.plot([-0, 11], [50, 50])\n",
      "plt.ylabel( 'Children mortality ratio' )\n",
      "\n",
      "plt.xticks( [v for v in yearRange if v % 10 == 0] )\n",
      "plt.margins(0.03, 0)"
     ],
     "language": "python",
     "metadata": {},
     "outputs": [
      {
       "metadata": {},
       "output_type": "display_data",
       "png": "[encoded data removed]",
       "text": [
        "<matplotlib.figure.Figure at 0x7fee933c0400>"
       ]
      }
     ],
     "prompt_number": 96
    },
    {
     "cell_type": "markdown",
     "metadata": {},
     "source": [
      "It is clear from that graph that the expected decline in child mortality is not present in the period between 1750 to 1770. In addition we can see that there is virtually no child mortality between 1705 and 1750. This was clear not the case and the likely reason for that gap is that child mortality was not reported during this period.\n",
      "\n",
      "Similarly, the extremly high child mortality from 1840 to 1850 is probably a consequence of bad encoding of deaths of adults, or bad parsing of the data."
     ]
    },
    {
     "cell_type": "heading",
     "level": 3,
     "metadata": {},
     "source": [
      "3.6 What about 1803?"
     ]
    },
    {
     "cell_type": "markdown",
     "metadata": {},
     "source": [
      "As seen in the plot of all deaths by year,a huge spike in mortality occurs in 1803. To study the possible explanation of that spike we first look at the distributions by month on that year:"
     ]
    },
    {
     "cell_type": "code",
     "collapsed": false,
     "input": [
      "deaths1803 = []\n",
      "for d in npDeathData[:,8]:\n",
      "    try:\n",
      "        deathDate = datetime.datetime.strptime(d, '%d/%m/%Y').date()\n",
      "        if deathDate.year == 1803:\n",
      "            deaths1803.append(d)\n",
      "    except: \n",
      "        pass\n",
      "\n",
      "[figDeath1803, deathByDay1803, deathByMonth1803, deathByYear1803] = plotDateDistribution ( deaths1803, '# Funerals in 1803', True, False )"
     ],
     "language": "python",
     "metadata": {},
     "outputs": [
      {
       "output_type": "stream",
       "stream": "stdout",
       "text": [
        "\n",
        "By month: \n",
        "     January :   33 ( +9.44 )\n",
        "    February :   10 ( +1.69 )\n",
        "       March :    6 ( +0.34 )\n",
        "       April :    5 ( +0.00 )\n",
        "         May :    5 ( +0.00 )\n",
        "        June :    1 ( -1.35 )\n",
        "        July :    3 ( -0.67 )\n",
        "      August :    7 ( +0.67 )\n",
        "   September :    4 ( -0.34 )\n",
        "     October :    5 ( +0.00 )\n",
        "    November :    0 ( -1.69 )\n",
        "    December :    3 ( -0.67 )\n"
       ]
      },
      {
       "metadata": {},
       "output_type": "display_data",
       "png": "[encoded data removed]",
       "text": [
        "<matplotlib.figure.Figure at 0x7fee933cc400>"
       ]
      }
     ],
     "prompt_number": 97
    },
    {
     "cell_type": "markdown",
     "metadata": {},
     "source": [
      "Here we can see that the exceptional rate of deaths of 1803 are mainly concentrated in January (33 deaths). Was that a trend coming from 1802?"
     ]
    },
    {
     "cell_type": "code",
     "collapsed": false,
     "input": [
      "deaths1802 = []\n",
      "for d in npDeathData[:,8]:\n",
      "    try:\n",
      "        deathDate = datetime.datetime.strptime(d, '%d/%m/%Y').date()\n",
      "        if deathDate.year == 1802:\n",
      "            deaths1802.append(d)\n",
      "    except: \n",
      "        pass\n",
      "\n",
      "[figDeath1802, deathByDay1802, deathByMonth1802, deathByYear1802] = plotDateDistribution ( deaths1802, '# Funerals 1802', True, False )"
     ],
     "language": "python",
     "metadata": {},
     "outputs": [
      {
       "output_type": "stream",
       "stream": "stdout",
       "text": [
        "\n",
        "By month: \n",
        "     January :    4 ( +0.45 )\n",
        "    February :    0 ( -1.35 )\n",
        "       March :    5 ( +0.90 )\n",
        "       April :    3 ( +0.00 )\n",
        "         May :    5 ( +0.90 )\n",
        "        June :    1 ( -0.90 )\n",
        "        July :    1 ( -0.90 )\n",
        "      August :    2 ( -0.45 )\n",
        "   September :    2 ( -0.45 )\n",
        "     October :    3 ( +0.00 )\n",
        "    November :    3 ( +0.00 )\n",
        "    December :    5 ( +0.90 )\n"
       ]
      },
      {
       "metadata": {},
       "output_type": "display_data",
       "png": "[encoded data removed]",
       "text": [
        "<matplotlib.figure.Figure at 0x7fedb2437dd8>"
       ]
      }
     ],
     "prompt_number": 98
    },
    {
     "cell_type": "markdown",
     "metadata": {},
     "source": [
      "No, January 1803 was an isolated case of high mortality. Maybe a bad crop, a strong winter, or a sever flu? We don't know."
     ]
    },
    {
     "cell_type": "heading",
     "level": 2,
     "metadata": {},
     "source": [
      "4. Discussion and conclusions"
     ]
    },
    {
     "cell_type": "markdown",
     "metadata": {},
     "source": [
      "While the data contains numerous inaccuracies and typographical errors, we can already see certain trends.\n",
      "\n",
      "The first interesting result that arises from this study is that summers, specially August, showed a higher mortality rate than the rest of the year. This was particularly marked among children. This trend is seen in other demographic studies of the region where it is attributed to hotter conditions. In this study we showed that the reasons for such increase in mortality were probably not related to violent deaths, as male mortality (associated with warfare and labour accidents) remained under 50% during this period.\n",
      "\n",
      "Furthermore, the months of Decembre and January showed a second spike in mortality, more pronounced in children and man than on adults and females. This is also consistent with pther studies of the region.\n",
      "\n",
      "A second result of interest is that January of 1803 was a month with very high mortality, albeit we don't know the reason for that.\n",
      "\n",
      "In addition, we can see the increase in prosperity and quality of life shown in the first graph (distribution of total births by year) where a marked increased in number of births exist between 1750 and 1780. This period corresponds to moment in Spanish history when peasants improved their quality of life partly thanks to rulers that tried to increase production in their lands, who helped to improve crop techniques as a means to achieve that. In consequence farmers saw their production increase and with that they obtained a production surplus that could be invested in better food, shelter, and clothing, hence increasing quality of live and triggering an increase in population. Nevertheless, we do not see a decrease in child mortality in this period that would have further confirmed that it was an increase in standards of living during this period.\n",
      "\n",
      "In particular, the village of Vall de Almonacid underwent a crop transformation during the second half of the XVIII Century, where many farmers moved from a wide variety of crops to mainly grow olive trees (a crop well suited to the region), from which they obtained a surplus that could be sold. This transformations is not only seen in the data presented in this study but also in the historical buildings of the village. The church (https://commons.wikimedia.org/wiki/File:Igl_VallAlmonacid.jpg), for instance, a huge financial investment carried by the locals, was finished in XXX\n",
      "\n",
      "While this is a very preliminary analysis of the demographic data that I used to get familiar with it and the IPython notebook environment, we intend to perform further analysis of this very rich and fascinating data.\n",
      "\n",
      "The data is available to be download as CSV files at:\n",
      "\n",
      "http://perezrovira.net/adria/demografiaNotebook/allDefunciones.csv\n",
      "\n",
      "http://perezrovira.net/adria/demografiaNotebook/allNacimientos.csv\n",
      "\n",
      "\n"
     ]
    },
    {
     "cell_type": "heading",
     "level": 4,
     "metadata": {},
     "source": [
      "Adria Perez-Rovira (v. 24/01/2017)"
     ]
    },
    {
     "cell_type": "markdown",
     "metadata": {},
     "source": [
      "Copyright 2017 Adria Perez-Rovira (MIT License)\n",
      "\n",
      "Permission is hereby granted, free of charge, to any person obtaining a copy of this software and associated documentation files (the \"Software\"), to deal in the Software without restriction, including without limitation the rights to use, copy, modify, merge, publish, distribute, sublicense, and/or sell copies of the Software, and to permit persons to whom the Software is furnished to do so, subject to the following conditions:\n",
      "\n",
      "The above copyright notice and this permission notice shall be included in all copies or substantial portions of the Software.\n",
      "\n",
      "THE SOFTWARE IS PROVIDED \"AS IS\", WITHOUT WARRANTY OF ANY KIND, EXPRESS OR IMPLIED, INCLUDING BUT NOT LIMITED TO THE WARRANTIES OF MERCHANTABILITY, FITNESS FOR A PARTICULAR PURPOSE AND NONINFRINGEMENT. IN NO EVENT SHALL THE AUTHORS OR COPYRIGHT HOLDERS BE LIABLE FOR ANY CLAIM, DAMAGES OR OTHER LIABILITY, WHETHER IN AN ACTION OF CONTRACT, TORT OR OTHERWISE, ARISING FROM, OUT OF OR IN CONNECTION WITH THE SOFTWARE OR THE USE OR OTHER DEALINGS IN THE SOFTWARE."
     ]
    },
    {
     "cell_type": "code",
     "collapsed": false,
     "input": [],
     "language": "python",
     "metadata": {},
     "outputs": []
    }
   ],
   "metadata": {}
  }
 ]
}