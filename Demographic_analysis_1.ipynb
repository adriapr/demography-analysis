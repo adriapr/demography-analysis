{
 "metadata": {
  "name": "",
  "signature": "sha256:0c4dce3a66bdf2b5900bd13f04ad81a46deb4fa00201e52a310f575ab007e869"
 },
 "nbformat": 3,
 "nbformat_minor": 0,
 "worksheets": [
  {
   "cells": [
    {
     "cell_type": "heading",
     "level": 1,
     "metadata": {},
     "source": [
      "Analysis of demographic data (Vall de almonacid, 1612 - 1852)"
     ]
    },
    {
     "cell_type": "markdown",
     "metadata": {},
     "source": [
      "This is an exploratory analysis of demographic data from Vall de Almonacid. Vall de Almonacid (Spain) is a small village on the Valencian region. Of Muslim origin, it was conquered, refounded and repopulated with Catholics from the Aragon Kingdom in XXXX.\n",
      "\n",
      "In the church there are several record books that were taken by Josep Maria Perez Rodriguez who copied and digitilised them with the help of Jose Maria Perez Rodriguesz, Maria Rovira Barbera, Pilar Perez Rodriguez, and some others.\n",
      "\n",
      "The hand-copied files were later digitalised by hand and a copy of these files is the starting point of this analysis.\n",
      "\n",
      "For this analysis, I opted for Python (v.3.5) as a felxible yet user-friendly tool to explore data."
     ]
    },
    {
     "cell_type": "heading",
     "level": 3,
     "metadata": {},
     "source": [
      "Imports and external dependencies"
     ]
    },
    {
     "cell_type": "markdown",
     "metadata": {},
     "source": [
      "All modules are commonly used modules"
     ]
    },
    {
     "cell_type": "code",
     "collapsed": false,
     "input": [
      "import csv\n",
      "import numpy as np\n",
      "import datetime\n",
      "import matplotlib.pyplot as plt\n",
      "from collections import Counter"
     ],
     "language": "python",
     "metadata": {},
     "outputs": [],
     "prompt_number": 3
    },
    {
     "cell_type": "heading",
     "level": 3,
     "metadata": {},
     "source": [
      "Reading the data"
     ]
    },
    {
     "cell_type": "markdown",
     "metadata": {},
     "source": [
      "To import the data I created a small function that reads the CSV files (there are two, one for baptisms and one for funerals). The function returns the header (name of the fields stored on the first line of the CSV file), a numpy 2D array with all fields as strings, and a second copy with all fields capitalised. The second copy is used to compare strings, where capitalisation might differ due to the poor quality of data. In addition to read the data the function outputs a list of all the fields, including the number of entries for each field and the value and frequency of the most common entry."
     ]
    },
    {
     "cell_type": "code",
     "collapsed": false,
     "input": [
      "def readDB( str_file ):\n",
      "\n",
      "    file  = open(str_file, \"r\")\n",
      "    reader = csv.reader(file)\n",
      "\n",
      "    rownum = 0\n",
      "    allData = []\n",
      "    ALLDATA = []\n",
      "\n",
      "    for iRow, row in enumerate(reader):\n",
      "\n",
      "        # Header row.\n",
      "        if iRow == 0:\n",
      "            header = row\n",
      "\n",
      "        else:\n",
      "            allData.append( row )\n",
      "            ALLDATA.append( [x.upper() for x in row] )\n",
      "\n",
      "    file.close()\n",
      "\n",
      "    # put all data in  numpy\n",
      "    npData = np.array(allData)\n",
      "    NPDATA = np.array(ALLDATA)\n",
      "\n",
      "    print ( \"\\nNumber of Entries: %4d\" % npData.shape[0] )\n",
      "    print ( \"Number of Columns: %4d\\n\" % npData.shape[1] )\n",
      "\n",
      "    # Check number of entries per column and the most common value\n",
      "    print ( \"                         # - Unique - Most common\" )\n",
      "\n",
      "    for idx in range(len(header)):\n",
      "        vec  = NPDATA[:,idx]\n",
      "        vec2 = vec [ NPDATA[:,idx] != '' ]\n",
      "\n",
      "        if len(vec2) > 0:\n",
      "            count = Counter(vec2)\n",
      "            print ( \"[%2s] %-15s: %4d - %6d - ( %4d | %s )\" % (idx, header[idx], vec2.size, len(count), count.most_common(1)[0][1], count.most_common(1)[0][0]) )\n",
      "        else:\n",
      "            print ( \"[%2s] %-15s: %4d\" % (idx, header[idx], vec2.size) )\n",
      "\n",
      "    return [header, npData, NPDATA]"
     ],
     "language": "python",
     "metadata": {},
     "outputs": [],
     "prompt_number": 5
    },
    {
     "cell_type": "markdown",
     "metadata": {},
     "source": [
      "So if we call it for the baptisms file:"
     ]
    },
    {
     "cell_type": "code",
     "collapsed": false,
     "input": [
      "    [headerBirth, npBirthData, NPBIRTHDATA] = readDB ('data/allNacimientos.csv')"
     ],
     "language": "python",
     "metadata": {},
     "outputs": [
      {
       "output_type": "stream",
       "stream": "stdout",
       "text": [
        "\n",
        "Number of Entries: 5237\n",
        "Number of Columns:   42\n",
        "\n",
        "                         # - Unique - Most common\n",
        "[ 0] NOMBRE         : 5237 -   2442 - (  241 | MANUEL )\n",
        "[ 1] APELL1         : 5221 -    461 - (  381 | RODRIGUEZ )\n",
        "[ 2] APELL2         : 5217 -    569 - (  305 | RODRIGUEZ )"
       ]
      },
      {
       "output_type": "stream",
       "stream": "stdout",
       "text": [
        "\n",
        "[ 3] SEXO           : 5237 -      2 - ( 2722 | HOMBRE )\n",
        "[ 4] NACIMIENTO     : 5237 -   4967 - (    4 | 03/07/1839 )\n",
        "[ 5] DIA            : 5237 -    366 - (   26 | 83 )"
       ]
      },
      {
       "output_type": "stream",
       "stream": "stdout",
       "text": [
        "\n",
        "[ 6] YEAR           : 5237 -    216 - (   53 | 1831 )\n",
        "[ 7] YEAR_ID        : 5237 -     53 - (  216 | 6 )\n",
        "[ 8] DEFUNCION      :    0\n",
        "[ 9] BAUTISMO       : 1117 -   1095 - (    3 | 4.7.1839 )\n",
        "[10] ENTERRAMIE     :    0\n",
        "[11] TESTIGDEF      :    0"
       ]
      },
      {
       "output_type": "stream",
       "stream": "stdout",
       "text": [
        "\n",
        "[12] ALBACEDEF      :    0\n",
        "[13] ORIGEN         :    8 -      6 - (    3 | PARVULO )\n",
        "[14] VECINDAD       :    0\n",
        "[15] ESTADCIVIL     :    0\n",
        "[16] LIBRAS         :    0\n",
        "[17] DINEROS        :    0\n",
        "[18] NOMPADRE       : 5224 -    237 - (  702 | MANUEL )\n",
        "[19] APELL2PAD      : 5222 -   1133 - (  167 | RODRIGUEZ )"
       ]
      },
      {
       "output_type": "stream",
       "stream": "stdout",
       "text": [
        "\n",
        "[20] NOMMADRE       : 5210 -    282 - (  986 | MARIA )\n",
        "[21] APELL2MAD      : 5217 -   1265 - (   96 | SANCHO )\n",
        "[22] VECINDPAD      :    2 -      2 - (    1 | ALCUBLAS )\n",
        "[23] ORIGPAD        :   25 -     18 - (    4 | (1) )\n",
        "[24] ORIGMAD        :   55 -     37 - (    4 | SEGORBE )\n",
        "[25] OFICIOPAD      :  533 -     65 - (  381 | LABRADOR )\n",
        "[26] OFICIOMAD      :    1 -      1 - (    1 | ALTURA )"
       ]
      },
      {
       "output_type": "stream",
       "stream": "stdout",
       "text": [
        "\n",
        "[27] NPADRINO       : 3720 -    248 - (  437 | MANUEL )\n",
        "[28] NMADRINA       : 3794 -    309 - (  454 | MARIA )\n",
        "[29] OFPADRINO      :  331 -    109 - (   51 | CIRUJANO )\n",
        "[30] OFMADRINA      :    8 -      7 - (    2 | CRIADA DEL GOVERNADOR )\n",
        "[31] VECPADRINO     :  111 -     55 - (   18 | ALXIMIA )\n",
        "[32] VECMADRINA     :  109 -     47 - (   20 | SEGORBE )\n",
        "[33] PARENTESCP     :  898 -     78 - (  224 | M )\n",
        "[34] PARENTESCM     :  868 -    234 - (  227 | D )\n",
        "[35] CONYGE1        :    0"
       ]
      },
      {
       "output_type": "stream",
       "stream": "stdout",
       "text": [
        "\n",
        "[36] FEMATRI1       :    0\n",
        "[37] ECIVCONY1      :    0\n",
        "[38] NOTARIO1       :    0\n",
        "[39] OBSERVACN      : 1798 -   1425 - (   27 | (1) ABUELOS PATERNOS SE IGNORAN )\n",
        "[40] APELLMADRINA   : 3795 -    477 - (  295 | RODRIGUEZ )\n",
        "[41] APELLPADRINO   : 3716 -    482 - (  424 | RODRIGUEZ )\n"
       ]
      }
     ],
     "prompt_number": 7
    },
    {
     "cell_type": "code",
     "collapsed": false,
     "input": [],
     "language": "python",
     "metadata": {},
     "outputs": []
    }
   ],
   "metadata": {}
  }
 ]
}