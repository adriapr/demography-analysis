{
 "metadata": {
  "name": "",
  "signature": "sha256:8e5c3b210361a47a4cf84b2a736516ffa48af489448fa390445a411c28b93241"
 },
 "nbformat": 3,
 "nbformat_minor": 0,
 "worksheets": [
  {
   "cells": [
    {
     "cell_type": "heading",
     "level": 1,
     "metadata": {},
     "source": [
      "Exploratory analysis of demographic data (Vall de almonacid, 1612 - 1852)"
     ]
    },
    {
     "cell_type": "markdown",
     "metadata": {},
     "source": [
      "This is an exploratory analysis of demographic data from Vall de Almonacid. Vall de Almonacid (Spain) is a small village on the Valencian region. Of Muslim origin, it was conquered, refounded and repopulated with Catholics from the Aragon Kingdom in 1238.\n",
      "\n",
      "In the church there are several record books that were taken by Josep Maria Perez Rodriguez who copied and digitilised them with the help of Jose Maria Perez Rodriguesz, Maria Rovira Barbera, Pilar Perez Rodriguez, and some others.\n",
      "\n",
      "The hand-copied files were later digitalised by hand and a copy of these files is the starting point of this analysis.\n",
      "\n",
      "For this analysis, I opted for Python (v.3.5) as a felxible yet user-friendly tool to explore data."
     ]
    },
    {
     "cell_type": "heading",
     "level": 3,
     "metadata": {},
     "source": [
      "Imports and external dependencies"
     ]
    },
    {
     "cell_type": "markdown",
     "metadata": {},
     "source": [
      "All modules are commonly used modules"
     ]
    },
    {
     "cell_type": "code",
     "collapsed": false,
     "input": [
      "# plot figures in the IPython resulting HTML\n",
      "%matplotlib inline\n",
      "\n",
      "import csv\n",
      "import numpy as np\n",
      "import datetime\n",
      "import matplotlib.pyplot as plt\n",
      "from collections import Counter\n",
      "\n",
      "# set width of figures by default\n",
      "plt.rcParams['figure.figsize'] = (14.0, 6.0)\n",
      "\n"
     ],
     "language": "python",
     "metadata": {},
     "outputs": [],
     "prompt_number": 1
    },
    {
     "cell_type": "heading",
     "level": 3,
     "metadata": {},
     "source": [
      "Reading the data"
     ]
    },
    {
     "cell_type": "markdown",
     "metadata": {},
     "source": [
      "To import the data I created a small function that reads the CSV files (there are two, one for baptisms and one for funerals). The function returns the header (name of the fields stored on the first line of the CSV file), a numpy 2D array with all fields as strings, and a second copy with all fields capitalised. The second copy is used to compare strings, where capitalisation might differ due to the poor quality of data. In addition to read the data the function outputs a list of all the fields, including the number of entries for each field and the value and frequency of the most common entry."
     ]
    },
    {
     "cell_type": "code",
     "collapsed": false,
     "input": [
      "def readDB( str_file ):\n",
      "\n",
      "    file  = open(str_file, \"r\")\n",
      "    reader = csv.reader(file)\n",
      "\n",
      "    rownum = 0\n",
      "    allData = []\n",
      "    ALLDATA = []\n",
      "\n",
      "    for iRow, row in enumerate(reader):\n",
      "\n",
      "        # Header row.\n",
      "        if iRow == 0:\n",
      "            header = row\n",
      "\n",
      "        else:\n",
      "            allData.append( row )\n",
      "            ALLDATA.append( [x.upper() for x in row] )\n",
      "\n",
      "    file.close()\n",
      "\n",
      "    # put all data in  numpy\n",
      "    npData = np.array(allData)\n",
      "    NPDATA = np.array(ALLDATA)\n",
      "\n",
      "    print ( \"\\nNumber of Entries: %4d\" % npData.shape[0] )\n",
      "    print ( \"Number of Columns: %4d\\n\" % npData.shape[1] )\n",
      "\n",
      "    # Check number of entries per column and the most common value\n",
      "    print ( \"                         # - Unique - Most common\" )\n",
      "\n",
      "    for idx in range(len(header)):\n",
      "        vec  = NPDATA[:,idx]\n",
      "        vec2 = vec [ NPDATA[:,idx] != '' ]\n",
      "\n",
      "        if len(vec2) > 0:\n",
      "            count = Counter(vec2)\n",
      "            print ( \"[%2s] %-15s: %4d - %6d - ( %4d | %s )\" % (idx, header[idx], vec2.size, len(count), count.most_common(1)[0][1], count.most_common(1)[0][0]) )\n",
      "        else:\n",
      "            print ( \"[%2s] %-15s: %4d\" % (idx, header[idx], vec2.size) )\n",
      "\n",
      "    return [header, npData, NPDATA]"
     ],
     "language": "python",
     "metadata": {},
     "outputs": [],
     "prompt_number": 2
    },
    {
     "cell_type": "heading",
     "level": 4,
     "metadata": {},
     "source": [
      "- Births -"
     ]
    },
    {
     "cell_type": "markdown",
     "metadata": {},
     "source": [
      "So if we call it for the baptisms file:"
     ]
    },
    {
     "cell_type": "code",
     "collapsed": false,
     "input": [
      "    [headerBirth, npBirthData, NPBIRTHDATA] = readDB ('data/allNacimientos.csv')"
     ],
     "language": "python",
     "metadata": {},
     "outputs": [
      {
       "output_type": "stream",
       "stream": "stdout",
       "text": [
        "\n",
        "Number of Entries: 5237\n",
        "Number of Columns:   42\n",
        "\n",
        "                         # - Unique - Most common\n",
        "[ 0] NOMBRE         : 5237 -   2442 - (  241 | MANUEL )\n",
        "[ 1] APELL1         : 5221 -    461 - (  381 | RODRIGUEZ )\n",
        "[ 2] APELL2         : 5217 -    569 - (  305 | RODRIGUEZ )"
       ]
      },
      {
       "output_type": "stream",
       "stream": "stdout",
       "text": [
        "\n",
        "[ 3] SEXO           : 5237 -      2 - ( 2722 | HOMBRE )\n",
        "[ 4] NACIMIENTO     : 5237 -   4967 - (    4 | 03/07/1839 )\n",
        "[ 5] DIA            : 5237 -    366 - (   26 | 8 )"
       ]
      },
      {
       "output_type": "stream",
       "stream": "stdout",
       "text": [
        "\n",
        "[ 6] YEAR           : 5237 -    216 - (   53 | 1831 )\n",
        "[ 7] YEAR_ID        : 5237 -     53 - (  216 | 4 )\n",
        "[ 8] DEFUNCION      :    0\n",
        "[ 9] BAUTISMO       : 1117 -   1095 - (    3 | 4.7.1839 )\n",
        "[10] ENTERRAMIE     :    0\n",
        "[11] TESTIGDEF      :    0"
       ]
      },
      {
       "output_type": "stream",
       "stream": "stdout",
       "text": [
        "\n",
        "[12] ALBACEDEF      :    0\n",
        "[13] ORIGEN         :    8 -      6 - (    3 | PARVULO )\n",
        "[14] VECINDAD       :    0\n",
        "[15] ESTADCIVIL     :    0\n",
        "[16] LIBRAS         :    0\n",
        "[17] DINEROS        :    0\n",
        "[18] NOMPADRE       : 5224 -    237 - (  702 | MANUEL )\n",
        "[19] APELL2PAD      : 5222 -   1133 - (  167 | RODRIGUEZ )"
       ]
      },
      {
       "output_type": "stream",
       "stream": "stdout",
       "text": [
        "\n",
        "[20] NOMMADRE       : 5210 -    282 - (  986 | MARIA )\n",
        "[21] APELL2MAD      : 5217 -   1265 - (   96 | SANCHO )\n",
        "[22] VECINDPAD      :    2 -      2 - (    1 | ALCUBLAS )\n",
        "[23] ORIGPAD        :   25 -     18 - (    4 | (1) )\n",
        "[24] ORIGMAD        :   55 -     37 - (    4 | CASTELLNOU )\n",
        "[25] OFICIOPAD      :  533 -     65 - (  381 | LABRADOR )\n",
        "[26] OFICIOMAD      :    1 -      1 - (    1 | ALTURA )"
       ]
      },
      {
       "output_type": "stream",
       "stream": "stdout",
       "text": [
        "\n",
        "[27] NPADRINO       : 3720 -    248 - (  437 | MANUEL )\n",
        "[28] NMADRINA       : 3794 -    309 - (  454 | MARIA )\n",
        "[29] OFPADRINO      :  331 -    109 - (   51 | CIRUJANO )\n",
        "[30] OFMADRINA      :    8 -      7 - (    2 | CRIADA DEL GOVERNADOR )\n",
        "[31] VECPADRINO     :  111 -     55 - (   18 | ALXIMIA )\n",
        "[32] VECMADRINA     :  109 -     47 - (   20 | ALXIMIA )\n",
        "[33] PARENTESCP     :  898 -     78 - (  224 | M )\n",
        "[34] PARENTESCM     :  868 -    234 - (  227 | D )\n",
        "[35] CONYGE1        :    0"
       ]
      },
      {
       "output_type": "stream",
       "stream": "stdout",
       "text": [
        "\n",
        "[36] FEMATRI1       :    0\n",
        "[37] ECIVCONY1      :    0\n",
        "[38] NOTARIO1       :    0\n",
        "[39] OBSERVACN      : 1798 -   1425 - (   27 | (1) ABUELOS PATERNOS SE IGNORAN )\n",
        "[40] APELLMADRINA   : 3795 -    477 - (  295 | RODRIGUEZ )\n",
        "[41] APELLPADRINO   : 3716 -    482 - (  424 | RODRIGUEZ )\n"
       ]
      }
     ],
     "prompt_number": 3
    },
    {
     "cell_type": "markdown",
     "metadata": {},
     "source": [
      "So the CSV contains 5237 entries with 42 columns. The number of entries for each column can vary widely and 12 contain no data at all. We can already see that Rodriguez is the most common surname and Manuel the most common name. Looking at \"[20] NOMMADRE\" we can see that the most common name for mothers, hence women, is Maria.\n",
      "\n",
      "Other interesting data, albeit expected, is that the most common job \"[25] OFICIOPAD\" is \"LABRADOR\" (english: farmer) while the most common job for the padrino (Godather) was CIRUJANO (surgeon). So you can infer that the Godfather role was most commonly taken by a higher social class person.\n",
      "\n",
      "In addition there are 1798 comments \"observaciones\" with rich, yet unstructured, information, for example:"
     ]
    },
    {
     "cell_type": "code",
     "collapsed": false,
     "input": [
      "print( npBirthData[427,39] )"
     ],
     "language": "python",
     "metadata": {},
     "outputs": [
      {
       "output_type": "stream",
       "stream": "stdout",
       "text": [
        "bautiz\u00e9 sup condicione un ni\u00f1o enmcontrado cuyos padres se ignoran el qual fue allado a la puerta de Felipe TORRES  a media noche\n"
       ]
      }
     ],
     "prompt_number": 4
    },
    {
     "cell_type": "markdown",
     "metadata": {},
     "source": [
      "English: I baptised sup condicione a boy with unknown parents who was found at the door of Felipe Torres at midnight."
     ]
    },
    {
     "cell_type": "code",
     "collapsed": false,
     "input": [
      "print( npBirthData[4013,39] )"
     ],
     "language": "python",
     "metadata": {},
     "outputs": [
      {
       "output_type": "stream",
       "stream": "stdout",
       "text": [
        "Fue bautizada en el acto de la nacencia por su abuela Theodora Pitarque y murio immediatamente.\n",
        "Examine la forma e intencion del bautismo y all\u00ed que estubo bien administrado\n"
       ]
      }
     ],
     "prompt_number": 5
    },
    {
     "cell_type": "markdown",
     "metadata": {},
     "source": [
      "English: Was baptised immediatly at birth by her grandmother Theodora Pitarque and died immediately.\n",
      "I examined the intention and correctnes of the baptisim and found that it was well performed."
     ]
    },
    {
     "cell_type": "heading",
     "level": 4,
     "metadata": {},
     "source": [
      "- Funerals -"
     ]
    },
    {
     "cell_type": "code",
     "collapsed": false,
     "input": [
      "[headerDeath, npDeathData, NPDEATHDATA] = readDB ('data/allDefunciones.csv')"
     ],
     "language": "python",
     "metadata": {},
     "outputs": [
      {
       "output_type": "stream",
       "stream": "stdout",
       "text": [
        "\n",
        "Number of Entries: 4330\n",
        "Number of Columns:   28\n",
        "\n",
        "                         # - Unique - Most common\n",
        "[ 0] ALBACEDEF      :  471 -    401 - (   18 | EL RETOR )\n",
        "[ 1] APELL1         : 3115 -    440 - (  244 | RODRIGUEZ )\n",
        "[ 2] APELL2         : 1341 -    212 - (  128 | RODRIGUEZ )\n",
        "[ 3] APELL2MAD      : 2246 -    316 - (  186 | RODRIGUEZ )\n",
        "[ 4] APELL2PAD      : 2483 -    282 - (  222 | RODRIGUEZ )"
       ]
      },
      {
       "output_type": "stream",
       "stream": "stdout",
       "text": [
        "\n",
        "[ 5] CONYGE1        : 1275 -    898 - (   17 | D )\n",
        "[ 6] DEFUNCION      : 3704 -   3466 - (    4 | 25 3 1826 )\n",
        "[ 7] ECIVCONY1      : 1193 -     13 - (  787 | ESP )\n",
        "[ 8] DEFUNCION2     : 3703 -   3458 - (    4 | 25/3/1826 )"
       ]
      },
      {
       "output_type": "stream",
       "stream": "stdout",
       "text": [
        "\n",
        "[ 9] edatTEXT       : 2649 -    176 - ( 1523 | P )\n",
        "[10] ENTERRAMIE     : 3155 -   2856 - (   11 | 25 )\n",
        "[11] ENTERRAMIENTO2 : 3155 -   2856 - (   11 | 25 )"
       ]
      },
      {
       "output_type": "stream",
       "stream": "stdout",
       "text": [
        "\n",
        "[12] LIBRAS         :   31 -      9 - (    7 | 20 )\n",
        "[13] NOMBRE         : 3978 -    742 - (  273 | MARIA )\n",
        "[14] NOMMADRE       : 2429 -    246 - (  442 | MARIA )\n",
        "[15] NOMPADRE       : 2673 -    205 - (  368 | MANUEL )"
       ]
      },
      {
       "output_type": "stream",
       "stream": "stdout",
       "text": [
        "\n",
        "[16] NOTARIO1       :   40 -     29 - (    9 | LABRADOR )\n",
        "[17] OBSERVACN      : 2407 -   1548 - (  131 | IG )\n",
        "[18] OFICIO         :  334 -     78 - (   84 | LABRADOR )\n",
        "[19] OFICIOMAD      :    3 -      3 - (    1 | AMA )\n",
        "[20] OFICIOPAD      :  235 -     36 - (  109 | LABRADORES )\n",
        "[21] ORIGPAD        :    9 -      6 - (    3 | ALGIMIA )\n",
        "[22] SEXO           : 3923 -      4 - ( 2034 | HOMBRE )"
       ]
      },
      {
       "output_type": "stream",
       "stream": "stdout",
       "text": [
        "\n",
        "[23] SUELDOS        :    4 -      3 - (    2 | 0 )\n",
        "[24] TESTIGDEF      : 1312 -    439 - (  545 | EL PARROCO )\n",
        "[25] TIPO           :  340 -     48 - (  262 | POBRE )\n",
        "[26] VECINDAD       :  750 -     58 - (  621 | \u00c7 )\n",
        "[27] VECINDPAD      :   18 -      6 - (   11 | \u00c7 )\n"
       ]
      }
     ],
     "prompt_number": 6
    },
    {
     "cell_type": "markdown",
     "metadata": {},
     "source": [
      "Again, the most common surname is Rodriguez, and names are Manuel and Maria, and the most common job is \"labrador\". But we can already see that the data is very incomplete with only 334 job entries out the 4330 subjects. However names of parents are plentyfull (~2500, so we can hope to reconstruct some geneaology tree later on) and there are also observaciones (comments) in 2407 entries, which are quite interesting:"
     ]
    },
    {
     "cell_type": "code",
     "collapsed": false,
     "input": [
      "print( npDeathData[1051,17] )\n"
     ],
     "language": "python",
     "metadata": {},
     "outputs": [
      {
       "output_type": "stream",
       "stream": "stdout",
       "text": [
        "IG\n",
        "HF\n",
        "No sacramentos: muri\u00f3 de repente sin poderlo remediar pues cay\u00f3 en un lagar lleno de vino\n"
       ]
      }
     ],
     "prompt_number": 7
    },
    {
     "cell_type": "markdown",
     "metadata": {},
     "source": [
      "English: IG, HF, No Sacrament: Died suddenly without remedy because he fell in a wine press full of wine."
     ]
    },
    {
     "cell_type": "code",
     "collapsed": false,
     "input": [
      "print( npDeathData[3794,17] )"
     ],
     "language": "python",
     "metadata": {},
     "outputs": [
      {
       "output_type": "stream",
       "stream": "stdout",
       "text": [
        "Se encontro asesinado el dia 14 en la partida llamada mojonada de este termino natural y vecino de Segorbe\n"
       ]
      }
     ],
     "prompt_number": 8
    },
    {
     "cell_type": "markdown",
     "metadata": {},
     "source": [
      "English: Was found murdered the 14th in the \"Mojonada\" in this municipality and neighbour of Segore (Segorbe is the largest town in the region, 8Km away from Vall de Almonacid)"
     ]
    },
    {
     "cell_type": "code",
     "collapsed": false,
     "input": [
      "print( npDeathData[2825,17] )"
     ],
     "language": "python",
     "metadata": {},
     "outputs": [
      {
       "output_type": "stream",
       "stream": "stdout",
       "text": [
        "De ALTURA que estaba en este pueblo por huir de los Franceses\n",
        "Se le hizo entierro ordinario que pagaron sus hijos\n"
       ]
      }
     ],
     "prompt_number": 9
    },
    {
     "cell_type": "markdown",
     "metadata": {},
     "source": [
      "English: From Altura (another village 10 km away) who was in this village fleeing from the French. A regular funeral was performed paid by his children.\n",
      "\n",
      "An yes, that was during the Spanish-French war (https://en.wikipedia.org/wiki/Peninsular_War):"
     ]
    },
    {
     "cell_type": "code",
     "collapsed": false,
     "input": [
      "print( npDeathData[2825,8] )"
     ],
     "language": "python",
     "metadata": {},
     "outputs": [
      {
       "output_type": "stream",
       "stream": "stdout",
       "text": [
        "23/7/1811\n"
       ]
      }
     ],
     "prompt_number": 10
    },
    {
     "cell_type": "code",
     "collapsed": false,
     "input": [
      "print( npDeathData[524,17] )"
     ],
     "language": "python",
     "metadata": {},
     "outputs": [
      {
       "output_type": "stream",
       "stream": "stdout",
       "text": [
        "\u201caviendo enfermado de enfermedad mortal, dicho dia al amanecer fue allada aogada en la balsa de la huerta mayor, y dudando el pueblo de la Vall si se le avia de dar sepultura o, no, cosa que al Pueblo no pertenecia sino al se\u00f1or obispo de Segorbe y su vicario General, el se\u00f1or don Chisostomo ROYO DE CASTELLVI, o RENS de la Sta Iglesia de Segorbe, su oficial general dicho dia mandaron que asta que se averiguare con testigos e informasemos si se avia desesperado, o, no, que la metiesen en una caxa hecha de tablas y fuese llevado el cadaver, asta que le recibieren los test\u00ba y se hicieron las debidas deligencias todo l\u00f1o qual se hizo obedeciuendo al dicho Rereen dissimo Sr, fue llevado el cadaver a la partida llamada rincon del pico de espadan cerca de la raya del termino distanmcia un tiro de piedra en donde ay un secano cuyo due\u00f1o vivae en la alcudia. Despues se recibieron ofrendas de personas fidelkes y testificaron que el dia de S Pedro la avian visto confesar con el cura por espoacio de dos horas y el mismo cura certifica que se comparo generalmente  de toda su vida y aviendo tenido tar juntos de Teologos en diferentes dias se informaron del medico que la avia visitado en una enfermedad y dicho y testifico que su enfermedad le hallo en punto, que iba dedicando a delirio ultimamente dichos informaciones determino y mando a san Vicario general que se tocasen a muerto y se le dijera misa cantada de cuerpo presente y que el curo fuese personalmente  al pico de Espedan y que se le vendijese la sepultaura solemnemente y que estubiese el cadaver depritado asta tanto que qede convertido y despues que rezen tratidos los mesos la misma caxa el cementerio a Campo Santo del dixo lugar en donde esta enterrado los demas fieles Serian diez libras para que se celebre bien por su alma y que se le diga misas rezadas....\n",
        "Esta enterrado el cadaver en el cementerio al pie de la cruz en 09.08.1682\n"
       ]
      }
     ],
     "prompt_number": 11
    },
    {
     "cell_type": "markdown",
     "metadata": {},
     "source": [
      "English: Being mortally ill she was found drowned on the fields watering pond. The village doubted if she was to be buried on the graveyard or not (suicides would prevent people to get buried there) but the decision was to be taken by the bishop and the church. The general official of the bishop then instructed to put the body in a plank box and leave it to the \"Rincon del pico espadan\", at the edge of the municipality, until the witnesses could testify and the investigation was concluded. Witnesses testified that they had seen her confessing with the priest for 2 hours and the priest detailed that she had confesses about her entire life. Theologians consulted the doctor that had attended her and he explained that her illness induced her delirium. With this information the general vicar instructed to toll for the dead and that she was to have sang mass with the decease's body present. In addition the priest was to go personally to the \"Rincon del pico espadan\" and perform the funeral duties solemnly, accompanying the body until she was buried in the graveyard with all other Catholics."
     ]
    },
    {
     "cell_type": "heading",
     "level": 3,
     "metadata": {},
     "source": [
      "The most common entries"
     ]
    },
    {
     "cell_type": "markdown",
     "metadata": {},
     "source": [
      "To check the most common entries of each field I wrote the following function, which given a list of entries relies on the Counter structure to sort the items in the list and print them in order, with the number of occurences in brackets:"
     ]
    },
    {
     "cell_type": "code",
     "collapsed": false,
     "input": [
      "def printMostCommon( vec, n=float(\"inf\") ):\n",
      "\n",
      "    vec2 = vec [ vec != '' ]\n",
      "    count = Counter(vec2)\n",
      "\n",
      "    print (\"Entradas mas comunes\")\n",
      "    for idx in range(len(count)):\n",
      "        if idx  > n-1:\n",
      "            break\n",
      "        print ( \"%4d : %s\" % (count.most_common()[idx][1], count.most_common()[idx][0]) )"
     ],
     "language": "python",
     "metadata": {},
     "outputs": [],
     "prompt_number": 12
    },
    {
     "cell_type": "markdown",
     "metadata": {},
     "source": [
      "A quick look to jobs show that something is amiss."
     ]
    },
    {
     "cell_type": "code",
     "collapsed": false,
     "input": [
      "printMostCommon( NPDEATHDATA[:,18], 15 )"
     ],
     "language": "python",
     "metadata": {},
     "outputs": [
      {
       "output_type": "stream",
       "stream": "stdout",
       "text": [
        "Entradas mas comunes\n",
        "  84 : LABRADOR\n",
        "  37 : LABRADORA\n",
        "  36 : HOSPITAL GENERAL\n",
        "  21 : STO HOSP\n",
        "  18 : HOSP GRAL VCIA\n",
        "  16 : AMA\n",
        "  10 : STO HOSPITAL\n",
        "   6 : PASTOR\n",
        "   6 : LABRADOR POBRE\n",
        "   5 : LABRADORA POBRE\n",
        "   4 : TEXEDOR\n",
        "   4 : LABRADORES\n",
        "   4 : HOSPITAL GENERAL DE VALENCIA\n",
        "   3 : MOZO\n",
        "   3 : DEL HOSPITAL GENERAL\n"
       ]
      }
     ],
     "prompt_number": 13
    },
    {
     "cell_type": "markdown",
     "metadata": {},
     "source": [
      "So follwed by farmer, the most common job was.. farmer (but the female version of it)!\n",
      "\n",
      "Nevertheless something is amiss here, as the 3rd, 4th adn 5th most common joba are a hospital (?). The most plausible explanation though is that these were kids that had been taken from a hospital (couples who couldn't have kids usually did that back in the day) and died young, and the priest (who wrote these records) opted to mention that in the job field.\n",
      "\n",
      "Notice that beside farmer, another \"popular\" job was \"LABRADOR POBRE\" (Poor farmer)"
     ]
    },
    {
     "cell_type": "code",
     "collapsed": false,
     "input": [
      "printMostCommon( NPDEATHDATA[:,13], 15 )"
     ],
     "language": "python",
     "metadata": {},
     "outputs": [
      {
       "output_type": "stream",
       "stream": "stdout",
       "text": [
        "Entradas mas comunes\n",
        " 273 : MARIA\n",
        " 271 : MANUEL\n",
        " 183 : FRANCISCO\n",
        " 148 : JOSEPH\n",
        " 148 : MIGUEL\n",
        " 127 : MANUELA\n",
        " 124 : JOSEF\n",
        " 120 : VICENTE\n",
        " 111 : ROSA\n",
        "  80 : JUAN\n",
        "  79 : FRANCISCA\n",
        "  78 : VICENTA\n",
        "  67 : TERESA\n",
        "  64 : MARIA ROSA\n",
        "  51 : ANTONIO\n"
       ]
      }
     ],
     "prompt_number": 14
    },
    {
     "cell_type": "markdown",
     "metadata": {},
     "source": [
      "Looking at the 15 most common names we can see Joseph and Josef add to 272 occurences, overtaking Manuel as the most common name. And that is without counting all the Jose and compund names so popular in Spain."
     ]
    },
    {
     "cell_type": "heading",
     "level": 3,
     "metadata": {},
     "source": [
      "Delay between death and funeral"
     ]
    },
    {
     "cell_type": "markdown",
     "metadata": {},
     "source": [
      "It is common in Spain to bury a relatives in the few immediate days after death. That contrasts with other Catholic countries, like Ireland, where burials can happen up to a week later than the death.\n",
      "\n",
      "We can check the distance between death and burial, as we have these two dates in NPDEATHDATA[:,8] and NPDEATHDATA[:,11]. FOr this we have to use the try clausule to avoid getting errors when there is no date string or this is uncomplete."
     ]
    },
    {
     "cell_type": "code",
     "collapsed": false,
     "input": [
      "diffBurial = []\n",
      "for ii, defuncion in enumerate(NPDEATHDATA[:,8]):\n",
      "    if (defuncion != '') and (NPDEATHDATA[ii,11] != ''):\n",
      "        try:\n",
      "            deathDate  = datetime.datetime.strptime(defuncion,     '%d/%m/%Y').date()\n",
      "            burialDate = datetime.datetime.strptime(NPDEATHDATA[ii,11], '%d/%m/%Y').date()\n",
      "            diffBurial.append( (burialDate - deathDate).days )\n",
      "        except: \n",
      "            pass\n",
      "\n",
      "delay = Counter(diffBurial)\n",
      "print ( \"\\nTiempo de la muerte al entierro, %d entierros\" % len(diffBurial))\n",
      "for idx in range(len(delay)):\n",
      "    print ( \"%4d : %d dias\" % (delay.most_common()[idx][1], delay.most_common()[idx][0]) )"
     ],
     "language": "python",
     "metadata": {},
     "outputs": [
      {
       "output_type": "stream",
       "stream": "stdout",
       "text": [
        "\n",
        "Tiempo de la muerte al entierro, 2349 entierros\n",
        "2283 : 1 dias\n",
        "  25 : 0 dias\n",
        "  13 : 2 dias\n",
        "   4 : -1 dias\n",
        "   3 : -30 dias\n",
        "   2 : 367 dias\n",
        "   1 : 3 dias\n",
        "   1 : 4 dias\n",
        "   1 : 5 dias\n",
        "   1 : 7 dias\n",
        "   1 : -89848 dias\n",
        "   1 : 10 dias\n",
        "   1 : -1460 dias\n",
        "   1 : 335 dias\n",
        "   1 : -364 dias\n",
        "   1 : 21 dias\n",
        "   1 : -96423 dias\n",
        "   1 : 90 dias\n",
        "   1 : 93 dias\n",
        "   1 : 29 dias\n",
        "   1 : 366 dias\n",
        "   1 : 8 dias\n",
        "   1 : -81479 dias\n",
        "   1 : 381 dias\n",
        "   1 : -2 dias\n"
       ]
      }
     ],
     "prompt_number": 15
    },
    {
     "cell_type": "markdown",
     "metadata": {},
     "source": [
      "From 2349 funerals, 2283 (97.2%) happened the day immediately after the death, 25 the same day, 13 after 2 days, and a 7 between 3 and 21 days.\n",
      "\n",
      "In addition is can clearly be seen that there are numerous typos on the data, as 12 entries report a funeral before the death. In 12 other cases it looks like there is shift likely to be due to a typo (1 month, 3 months, 1 year, etc)."
     ]
    },
    {
     "cell_type": "heading",
     "level": 3,
     "metadata": {},
     "source": [
      "Distribution of events in time"
     ]
    },
    {
     "cell_type": "markdown",
     "metadata": {},
     "source": [
      "Now that we have an idea of how the data looks like, let's visualise the distribution of births and deaths by year, but also by month and day of the week. For that I wrote these 2 functions:"
     ]
    },
    {
     "cell_type": "code",
     "collapsed": false,
     "input": [
      "# Modified z-score\n",
      "def MADscore(vec):\n",
      "    median = np.median(vec)\n",
      "    median_absolute_deviation = np.median([np.abs(v - median) for v in vec])\n",
      "    modified_z_scores = [0.6745 * (v - median) / median_absolute_deviation for v in vec]\n",
      "    return modified_z_scores\n",
      "\n",
      "# Print and plot distributions\n",
      "def plotDateDistribution ( vec, str_ylabel, showPlot=True, showByYear=True, showByDay=False ):\n",
      "\n",
      "        str_day = ['Domingo', 'Lunes', 'Martes', 'Miercoles', 'Jueves', 'Viernes', 'Sabado']\n",
      "\n",
      "        str_months = ['Enero', 'Febrero', 'Marzo', 'Abril', 'Mayo', 'Junio',\n",
      "                    'Julio', 'Agosto', 'Setiembre', 'Octubre', 'Noviembre', 'Diciembre']\n",
      "\n",
      "        distributionDay   = [0] * 7\n",
      "        distributionMonth = [0] * 12\n",
      "        distributionYear  = [0] * 2000\n",
      "\n",
      "        # put entries in bin for each occurance\n",
      "        for d in vec:\n",
      "            try:\n",
      "                deathDate = datetime.datetime.strptime(d, '%d/%m/%Y').date()\n",
      "                distributionDay[deathDate.weekday()] += 1\n",
      "                distributionMonth[deathDate.month-1] += 1\n",
      "                distributionYear[deathDate.year]     += 1\n",
      "            except: \n",
      "                pass\n",
      "\n",
      "        # compute z-scores to detect outliers\n",
      "        zScoreDay   = MADscore(distributionDay)\n",
      "        zScoreMonth = MADscore(distributionMonth)\n",
      "        zScoreYear  = MADscore(distributionYear)\n",
      "\n",
      "        # find first and last year with data \n",
      "        min_year = next(i for i, v in enumerate(distributionYear) if v > 0)\n",
      "        max_year_tmp = next(i for i, v in enumerate(reversed(distributionYear)) if v > 0)\n",
      "        max_year = len(distributionYear) - 1 - max_year_tmp\n",
      "        yearRange = np.arange(min_year, max_year+1)\n",
      "\n",
      "        # Print distributions on console\n",
      "        if showByDay:\n",
      "            print( \"\\nBy day: \")\n",
      "            for i, v in enumerate(distributionDay):\n",
      "                print ( \"%12s : %4d ( %+.2f )\" % (str_day[i], v, zScoreDay[i]) )\n",
      "\n",
      "        print( \"\\nBy month: \")\n",
      "        for i, v in enumerate(distributionMonth):\n",
      "            print ( \"%12s : %4d ( %+.2f )\" % (str_months[i], v, zScoreMonth[i]) )\n",
      "\n",
      "        if showPlot:\n",
      "            fig = plt.figure()\n",
      "            ax1 = plt.gca()\n",
      "            ax1.bar(range(12), distributionMonth, align='center', alpha=0.5)\n",
      "            ax1.set_xticks( range(12) )\n",
      "            ax1.set_xticklabels( [v[0] for v in str_months] )\n",
      "            ax1.set_ylabel( str_ylabel )\n",
      "            plt.margins(0.05, 0)\n",
      "            x1,x2,y1,y2 = ax1.axis()\n",
      "            ax1.axis((x1,x2,y1,y2 + 5))\n",
      "\n",
      "            if showByDay:\n",
      "                fig = plt.figure()\n",
      "                ax2 = plt.gca()\n",
      "                ax2.bar(range(7), distributionDay, align='center', alpha=0.5)\n",
      "                ax2.set_xticks( range(7) )\n",
      "                ax2.set_xticklabels( [v[0] for v in str_day] )\n",
      "                plt.ylabel( str_ylabel )\n",
      "                plt.margins(0.05, 0)\n",
      "                x1,x2,y1,y2 = ax2.axis()\n",
      "                ax2.axis((x1,x2,y1,y2 + 5))\n",
      "\n",
      "            if showByYear:\n",
      "                values = distributionYear[min_year:max_year+1]\n",
      "                fig = plt.figure()\n",
      "                ax3 = plt.gca()\n",
      "                ax3.bar( yearRange, values, align='center', alpha=0.3)\n",
      "                ax3.set_xticks( [v for v in yearRange if v % 10 == 0] )\n",
      "                plt.ylabel( str_ylabel )\n",
      "                plt.margins(0.03, 0)\n",
      "                x1,x2,y1,y2 = ax3.axis()\n",
      "                ax3.axis((x1,x2,y1,y2 + 5))\n",
      "\n",
      "#            fig.subplots_adjust(left=0.06, right=0.99, top= 0.99, bottom=0.05)\n",
      "            plt.show()\n",
      "\n",
      "        else:\n",
      "            fig = None\n",
      "\n",
      "        return [fig, distributionDay, distributionMonth, distributionYear]\n"
     ],
     "language": "python",
     "metadata": {},
     "outputs": [],
     "prompt_number": 52
    },
    {
     "cell_type": "heading",
     "level": 4,
     "metadata": {},
     "source": [
      "Births"
     ]
    },
    {
     "cell_type": "code",
     "collapsed": false,
     "input": [
      "[figBirth, birthByDay, birthByMonth, birthByYear] = plotDateDistribution ( npBirthData[:,4], '#Nacimientos', True )"
     ],
     "language": "python",
     "metadata": {},
     "outputs": [
      {
       "output_type": "stream",
       "stream": "stdout",
       "text": [
        "\n",
        "By month: \n",
        "       Enero :  447 ( +0.09 )\n",
        "     Febrero :  475 ( +0.65 )\n",
        "       Marzo :  570 ( +2.57 )\n",
        "       Abril :  438 ( -0.09 )\n",
        "        Mayo :  513 ( +1.42 )\n",
        "       Junio :  452 ( +0.19 )\n",
        "       Julio :  462 ( +0.39 )\n",
        "      Agosto :  354 ( -1.78 )\n",
        "   Setiembre :  336 ( -2.14 )\n",
        "     Octubre :  432 ( -0.21 )\n",
        "   Noviembre :  408 ( -0.69 )\n",
        "   Diciembre :  350 ( -1.86 )\n"
       ]
      },
      {
       "output_type": "stream",
       "stream": "stderr",
       "text": [
        "-c:5: RuntimeWarning: invalid value encountered in double_scalars\n",
        "-c:5: RuntimeWarning: divide by zero encountered in double_scalars\n"
       ]
      },
      {
       "metadata": {},
       "output_type": "display_data",
       "png": "[encoded data removed]",
       "text": [
        "<matplotlib.figure.Figure at 0x7f08d9763da0>"
       ]
      },
      {
       "metadata": {},
       "output_type": "display_data",
       "png": "[encoded data removed]",
       "text": [
        "<matplotlib.figure.Figure at 0x7f08d8aa6160>"
       ]
      }
     ],
     "prompt_number": 17
    },
    {
     "cell_type": "markdown",
     "metadata": {},
     "source": [
      "The distribution by month shows a higer rate of births in the spring, but March, the month with highest number of births has a modified z-score of 2.57. So a bit of an outlier but nothing exceptional.\n",
      "\n",
      "The distribution by day of the week looks very uniform, as expected.\n",
      "\n",
      "And by year, we can see a steady increase in births along time, with a marked boom in the 1750 to 1770."
     ]
    },
    {
     "cell_type": "heading",
     "level": 4,
     "metadata": {},
     "source": [
      "Deaths"
     ]
    },
    {
     "cell_type": "code",
     "collapsed": false,
     "input": [
      "[figDeath, deathByDay, deathByMonth, deathByYear] = plotDateDistribution ( npDeathData[:,8], '#Defunciones', True )"
     ],
     "language": "python",
     "metadata": {},
     "outputs": [
      {
       "output_type": "stream",
       "stream": "stdout",
       "text": [
        "\n",
        "By month: \n",
        "       Enero :  322 ( +0.78 )\n",
        "     Febrero :  236 ( -1.25 )\n",
        "       Marzo :  272 ( -0.40 )\n",
        "       Abril :  293 ( +0.09 )\n",
        "        Mayo :  277 ( -0.28 )\n",
        "       Junio :  259 ( -0.71 )\n",
        "       Julio :  364 ( +1.77 )\n",
        "      Agosto :  486 ( +4.66 )\n",
        "   Setiembre :  325 ( +0.85 )\n",
        "     Octubre :  285 ( -0.09 )\n",
        "   Noviembre :  267 ( -0.52 )\n",
        "   Diciembre :  316 ( +0.64 )\n"
       ]
      },
      {
       "metadata": {},
       "output_type": "display_data",
       "png": "[encoded data removed]",
       "text": [
        "<matplotlib.figure.Figure at 0x7f08d90578d0>"
       ]
      },
      {
       "metadata": {},
       "output_type": "display_data",
       "png": "[encoded data removed]",
       "text": [
        "<matplotlib.figure.Figure at 0x7f08d94219e8>"
       ]
      }
     ],
     "prompt_number": 18
    },
    {
     "cell_type": "markdown",
     "metadata": {},
     "source": [
      "From the month distribution we see that August (A) has an abnormal spike of deaths with a modified z-score of +4.66 (Usually anythong above 3.5 is considered outlier). In addition July and September are the 2nd and 3rd months with highest risk of death.\n",
      "\n",
      "At first we could think that given the high child mortality back then, a spike in deaths could be explained by a spike in births. However looking at the distribution of births previosly plotted we see than that is not case, with August and Septembre being the months with lowest number of births. Could it be that summer and the spanish heat is worse for the population? Maybe accidents in the fields, wars being more common in the summer? We don't know, but we will come back to analysis this later on.\n",
      "\n",
      "Distribution fo deaths by day of the week seem quite uniform, with a deep on fridays (z-value: -3.12).\n",
      "\n",
      "Distribution by year sho no births from 1637 until 1663. This, I have been told, was due not because of a lack of births, but because someone tore the sheets from the records book of that period. Probably to light a fire... Simlarly, in 1780 there are no deaths reported, but this is also probably due to missing records, as birth records exist therfore it is likelt that the priest would have recoreded funerals as well.\n",
      "\n",
      "Another interesting fact is 1803, whit that huge spike in deaths: Could it be wars, the plague, a bad crop? We don't know but we will take a look to that later on, see what the data says."
     ]
    },
    {
     "cell_type": "heading",
     "level": 3,
     "metadata": {},
     "source": [
      "Trying to explain the spike of deaths in the summer"
     ]
    },
    {
     "cell_type": "markdown",
     "metadata": {},
     "source": [
      "As seen before, the summer showed a higer mortality. In order to investigate any possible underlying cause we first will separate adults from kids. In the field NPDEATHDATA[:,9] there is written an abbreviation of the age of people at their funerals. 'ALB' (Albado/a), 'P' (Parvulo), 'N' (Ni\u00f1o/a), 'NI\u00d1O' and 'NI\u00d1A' denote children, while A (Adulto) and '' (the absence of any identifier) denote adults. HF (Hijo de familia) and the remianing indicators are exluded from this analysis."
     ]
    },
    {
     "cell_type": "code",
     "collapsed": false,
     "input": [
      "printMostCommon( NPDEATHDATA[:,9], 20 )"
     ],
     "language": "python",
     "metadata": {},
     "outputs": [
      {
       "output_type": "stream",
       "stream": "stdout",
       "text": [
        "Entradas mas comunes\n",
        "1523 : P\n",
        " 391 : A\n",
        " 158 : N\n",
        "  85 : ALB\n",
        "  57 : HF\n",
        "  25 : RN\n",
        "  23 : 2\n",
        "  19 : 1\n",
        "  16 : D\n",
        "  11 : MY\n",
        "   9 : NI\u00d1A\n",
        "   8 : 4\n",
        "   7 : NI\u00d1O\n",
        "   7 : 70\n",
        "   7 : MN\n",
        "   7 : 18M\n",
        "   7 : 73\n",
        "   6 : 3\n",
        "   6 : 5\n",
        "   6 : 8M\n"
       ]
      }
     ],
     "prompt_number": 19
    },
    {
     "cell_type": "code",
     "collapsed": false,
     "input": [
      "# Spearate adults and kids\n",
      "adults = []\n",
      "kids = []\n",
      "\n",
      "for i, v in enumerate(NPDEATHDATA[:,9]):\n",
      "    if v in ['', 'A']:\n",
      "        adults.append(NPDEATHDATA[i,8])\n",
      "    if v in ['P', 'ALB', 'N', 'NI\u00d1A', '\u0143I\u00d1O']:\n",
      "        kids.append(NPDEATHDATA[i,8])\n",
      "\n",
      "print (\"Total number of adult deaths: %d\" % len(adults))\n",
      "[figDeathAdults, deathByDay, deathByMonth, deathByYear] = plotDateDistribution ( adults, '#Defunciones Adultos', True )"
     ],
     "language": "python",
     "metadata": {},
     "outputs": [
      {
       "output_type": "stream",
       "stream": "stdout",
       "text": [
        "Total number of adult deaths: 2072\n",
        "\n",
        "By month: \n",
        "       Enero :  158 ( +0.89 )\n",
        "     Febrero :  132 ( -0.71 )\n",
        "       Marzo :  133 ( -0.64 )\n",
        "       Abril :  158 ( +0.89 )\n",
        "        Mayo :  138 ( -0.34 )\n",
        "       Junio :  126 ( -1.07 )\n",
        "       Julio :  146 ( +0.15 )\n",
        "      Agosto :  185 ( +2.54 )\n",
        "   Setiembre :  133 ( -0.64 )\n",
        "     Octubre :  163 ( +1.20 )\n",
        "   Noviembre :  141 ( -0.15 )\n",
        "   Diciembre :  149 ( +0.34 )\n"
       ]
      },
      {
       "metadata": {},
       "output_type": "display_data",
       "png": "[encoded data removed]",
       "text": [
        "<matplotlib.figure.Figure at 0x7f08d8924860>"
       ]
      },
      {
       "metadata": {},
       "output_type": "display_data",
       "png": "[encoded data removed]",
       "text": [
        "<matplotlib.figure.Figure at 0x7f089fd082b0>"
       ]
      }
     ],
     "prompt_number": 22
    },
    {
     "cell_type": "code",
     "collapsed": false,
     "input": [
      "print (\"Total number of young deaths: %d\\n\" % len(kids))\n",
      "[figDethKids, deathByDayKids, deathByMonthKids, deathByYearKids] = plotDateDistribution ( kids, '#Defunciones ni\u00f1os', True )"
     ],
     "language": "python",
     "metadata": {},
     "outputs": [
      {
       "output_type": "stream",
       "stream": "stdout",
       "text": [
        "Total number of young deaths: 1775\n",
        "\n",
        "\n",
        "By month: \n",
        "       Enero :  134 ( +0.79 )\n",
        "     Febrero :   80 ( -1.35 )\n",
        "       Marzo :  117 ( +0.12 )\n",
        "       Abril :  101 ( -0.52 )\n",
        "        Mayo :  104 ( -0.40 )\n",
        "       Junio :  111 ( -0.12 )\n",
        "       Julio :  188 ( +2.94 )\n",
        "      Agosto :  269 ( +6.15 )\n",
        "   Setiembre :  161 ( +1.86 )\n",
        "     Octubre :  100 ( -0.56 )\n",
        "   Noviembre :  101 ( -0.52 )\n",
        "   Diciembre :  136 ( +0.87 )\n"
       ]
      },
      {
       "metadata": {},
       "output_type": "display_data",
       "png": "[encoded data removed]",
       "text": [
        "<matplotlib.figure.Figure at 0x7f089fcba1d0>"
       ]
      },
      {
       "metadata": {},
       "output_type": "display_data",
       "png": "[encoded data removed]",
       "text": [
        "<matplotlib.figure.Figure at 0x7f08d917cd30>"
       ]
      }
     ],
     "prompt_number": 23
    },
    {
     "cell_type": "markdown",
     "metadata": {},
     "source": [
      "While the spike in deaths remains when we only look at adults, this becomes increasingly pronounced (z-score +6.15 ) for kids. This should then exclude the explanation that summer deaths were related to an increa in labour activity or warfare.\n",
      "\n",
      "To exclude violent deaths as the cause of the summer spike in mortality, we can look at deaths separated by gender. A high rate of male deaths could indicate a spike in violent deaths, as men were the ones more involved in warfare and farming labour:"
     ]
    },
    {
     "cell_type": "code",
     "collapsed": false,
     "input": [
      "# Spearate adults deaths by gender\n",
      "male = []\n",
      "female = []\n",
      "\n",
      "for i, v in enumerate(NPDEATHDATA[:,9]):\n",
      "    if v in ['', 'A']:\n",
      "        if NPDEATHDATA[i,22] == 'HOMBRE':\n",
      "            male.append(NPDEATHDATA[i,8])\n",
      "        else:\n",
      "            female.append(NPDEATHDATA[i,8])\n",
      "\n",
      "print (\"Total number of male adult deaths: %d\" % len(male))\n",
      "print (\"Total number of female adult deaths: %d\" % len(female))"
     ],
     "language": "python",
     "metadata": {},
     "outputs": [
      {
       "output_type": "stream",
       "stream": "stdout",
       "text": [
        "Total number of male adult deaths: 967\n",
        "Total number of female adult deaths: 1105\n"
       ]
      }
     ],
     "prompt_number": 49
    },
    {
     "cell_type": "markdown",
     "metadata": {},
     "source": [
      "And the ratio by month:"
     ]
    },
    {
     "cell_type": "code",
     "collapsed": false,
     "input": [
      "MFratio = np.array(deathByMonthMaleAdults) / np.array(deathByMonthFemaleAdults)\n",
      "print(MFratio)"
     ],
     "language": "python",
     "metadata": {},
     "outputs": [
      {
       "output_type": "stream",
       "stream": "stdout",
       "text": [
        "[ 1.25714286  0.85915493  1.078125    0.90361446  0.74683544  0.88059701\n",
        "  0.80246914  0.98924731  0.87323944  0.98780488  0.93150685  1.328125  ]\n"
       ]
      }
     ],
     "prompt_number": 40
    },
    {
     "cell_type": "code",
     "collapsed": false,
     "input": [
      "fig = plt.figure()\n",
      "plt.plot(range(12), MFratio, alpha=0.5)\n",
      "plt.ylabel( 'Ratio of deaths Male/Female' )\n",
      "plt.xticks( range(12), ['E', 'F', 'M', 'A', 'M', 'J', 'J', 'A', 'S', 'O', 'N', 'D'] )\n",
      "plt.margins(0.05)"
     ],
     "language": "python",
     "metadata": {},
     "outputs": [
      {
       "metadata": {},
       "output_type": "display_data",
       "png": "[encoded data removed]",
       "text": [
        "<matplotlib.figure.Figure at 0x7f07f7f188d0>"
       ]
      }
     ],
     "prompt_number": 47
    },
    {
     "cell_type": "markdown",
     "metadata": {},
     "source": [
      "The only months that (adult) male died more often than (adult) female were January (E), March (M), and Decembre (D) but not in the summer. This is an idicator that the increase in summer deaths were not violent in nature and thus attribuable to summer diseases and heat.\n",
      "\n",
      "In addition, the previous plot about number of deaths by month on children show a very marked spike in August (z:score = +6.15).\n",
      "\n",
      "So while it is hard to extract conclusions from this limited dataset, the data suggest that the summers had an increase mortality, specially on children, that were are not related to violent deaths.\n",
      "\n",
      "When we compare this data with other demographic studies we see that in \"Evolucion Demografica de Cortes de Arenoso desde 1560 a 1660\" by Antonio Poveda Ayora, MSc Thesis, Universidad de Valencia, 1982, a similar spkie is reported in the month of August (with a 38% increase over the mean). In page 282 he reports:\n",
      "\n",
      "\"El maximo de defunciones que se registran en Cortes de Arenoso en los meses de agosto y setiembre puede deberse a la incidencia que, sobre estos meses, tendria la mortalidad de ni\u00f1os, pues las causas de la mortalidad infantil eran, fundamentalmente, las diarreas estivales antes de las lluvias de oto\u00f1o, debidas a la sequedad, altas temperaturas, empleo de aguas contaminadas, etc.\"\n",
      "\n",
      "English: \"The maximun of deaths registered in Cortes de Arenoso in August and September can be due the high children's mortality, as main children mortality causes were summer diarrea before auntum rains as consequence of dry weather, high temperatures, contaminated waters, etc.\""
     ]
    },
    {
     "cell_type": "heading",
     "level": 3,
     "metadata": {},
     "source": [
      "What about 1803?"
     ]
    },
    {
     "cell_type": "markdown",
     "metadata": {},
     "source": [
      "As seen in the first plot of deaths by year,a huge spike occurs in 1803. To study the possible explanation of that spike we first look at the distributions by month on that year:"
     ]
    },
    {
     "cell_type": "code",
     "collapsed": false,
     "input": [
      "deaths1803 = []\n",
      "for d in npDeathData[:,8]:\n",
      "    try:\n",
      "        deathDate = datetime.datetime.strptime(d, '%d/%m/%Y').date()\n",
      "        if deathDate.year == 1803:\n",
      "            deaths1803.append(d)\n",
      "    except: \n",
      "        pass\n",
      "\n",
      "[figDeath1803, deathByDay1803, deathByMonth1803, deathByYear1803] = plotDateDistribution ( deaths1803, '#Defunciones 1803', True, False )"
     ],
     "language": "python",
     "metadata": {},
     "outputs": [
      {
       "output_type": "stream",
       "stream": "stdout",
       "text": [
        "\n",
        "By month: \n",
        "       Enero :   33 ( +9.44 )\n",
        "     Febrero :   10 ( +1.69 )\n",
        "       Marzo :    6 ( +0.34 )\n",
        "       Abril :    5 ( +0.00 )\n",
        "        Mayo :    5 ( +0.00 )\n",
        "       Junio :    1 ( -1.35 )\n",
        "       Julio :    3 ( -0.67 )\n",
        "      Agosto :    7 ( +0.67 )\n",
        "   Setiembre :    4 ( -0.34 )\n",
        "     Octubre :    5 ( +0.00 )\n",
        "   Noviembre :    0 ( -1.69 )\n",
        "   Diciembre :    3 ( -0.67 )\n"
       ]
      },
      {
       "metadata": {},
       "output_type": "display_data",
       "png": "[encoded data removed]",
       "text": [
        "<matplotlib.figure.Figure at 0x7f07f89f11d0>"
       ]
      }
     ],
     "prompt_number": 54
    },
    {
     "cell_type": "markdown",
     "metadata": {},
     "source": [
      "Here we can see that the exceptional rate of deaths of 1803 are mainly concentrated in January (E). Was that a trend coming from 1802?"
     ]
    },
    {
     "cell_type": "code",
     "collapsed": false,
     "input": [
      "deaths1802 = []\n",
      "for d in npDeathData[:,8]:\n",
      "    try:\n",
      "        deathDate = datetime.datetime.strptime(d, '%d/%m/%Y').date()\n",
      "        if deathDate.year == 1802:\n",
      "            deaths1802.append(d)\n",
      "    except: \n",
      "        pass\n",
      "\n",
      "[figDeath1802, deathByDay1802, deathByMonth1802, deathByYear1802] = plotDateDistribution ( deaths1802, '#Defunciones 1802', True, False )"
     ],
     "language": "python",
     "metadata": {},
     "outputs": [
      {
       "output_type": "stream",
       "stream": "stdout",
       "text": [
        "\n",
        "By month: \n",
        "       Enero :    4 ( +0.45 )\n",
        "     Febrero :    0 ( -1.35 )\n",
        "       Marzo :    5 ( +0.90 )\n",
        "       Abril :    3 ( +0.00 )\n",
        "        Mayo :    5 ( +0.90 )\n",
        "       Junio :    1 ( -0.90 )\n",
        "       Julio :    1 ( -0.90 )\n",
        "      Agosto :    2 ( -0.45 )\n",
        "   Setiembre :    2 ( -0.45 )\n",
        "     Octubre :    3 ( +0.00 )\n",
        "   Noviembre :    3 ( +0.00 )\n",
        "   Diciembre :    5 ( +0.90 )\n"
       ]
      },
      {
       "metadata": {},
       "output_type": "display_data",
       "png": "[encoded data removed]",
       "text": [
        "<matplotlib.figure.Figure at 0x7f07f8a0aa20>"
       ]
      }
     ],
     "prompt_number": 57
    },
    {
     "cell_type": "markdown",
     "metadata": {},
     "source": [
      "No, January 1803 was an isolated case of high mortality. Maybe a bad crop, a strong winter, or a sever flu? We don't know."
     ]
    },
    {
     "cell_type": "heading",
     "level": 2,
     "metadata": {},
     "source": [
      "Discussion and conclusions"
     ]
    },
    {
     "cell_type": "markdown",
     "metadata": {},
     "source": [
      "While the data contains numerous innacuracies and typografic errors, we can already see that summers showed a higher mortality rate than teh rest of the year, a trend seen in other demographic studies of the region.\n",
      "\n",
      "January of 1803 was a specially bad month, albeit we don't know the reason for that.\n",
      "\n",
      "In addition, we can see the increase in prosperity and quality of life shown in the first graph (distribution of total births by year) where a marked increased exist between 1750 and 1780. This period corresponds to moment in Spanish history when peasanst imporved their quality of life partly thanks to the rulers seeing this as a mean to incrase production. During these year the village of Vall de Almonacid saw a crop tranformation, where many farmers moved from a wide variety of crops to mainly grow olvie trees. As a consequence most villagers produced a surplus (the land of the region was and still is well suited for olive growing) and that brought an increase in standards of living. The village churg, a huge financial investment carried by the locals, was finished late 18th Century.\n",
      "\n",
      "While this is a very preliminary analysis of the demographic data, further studies can follow in order to improve the quality of the date and to better understand live in Vall de Almonacid in this period. For this the databases need to be curated so they can be merged in order to relationate birth entryies with death entries and thus crete a better profile of each inhabitat of the village."
     ]
    },
    {
     "cell_type": "code",
     "collapsed": false,
     "input": [],
     "language": "python",
     "metadata": {},
     "outputs": []
    }
   ],
   "metadata": {}
  }
 ]
}